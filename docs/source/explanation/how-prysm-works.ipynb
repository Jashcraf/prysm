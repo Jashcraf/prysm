{
 "cells": [
  {
   "cell_type": "markdown",
   "metadata": {},
   "source": [
    "# How prysm Works\n",
    "\n",
    "This notebook will walk through how prysm works, so that users can develop intuition for the library.\n",
    "\n",
    "## Imports\n",
    "\n",
    "prysm is structured into many sub-modules; common practice is to import that needed pieces and _not_ use star imports.  See the bottom of the next section for an example.\n",
    "\n",
    "## Grids\n",
    "\n",
    "All functions in prysm operate on arrays, taking the relevant coordinates as arguments, e.g. $x$ and $y$ or $\\rho$ and \\$theta$.  No functions take anything like `sample_count` or `npix` as arguments.  This is to keep the library simple, and prevent any disagreement on assumptions about whether an array is inter-sample centered (not containing a zero element for even-size arrays) or fft-centered (containing a zero element always).  It is not meaningfully different to pass `npix` everywhere or pass `x, y`.\n",
    "\n",
    "For example, if you want to evaluate polynomials on a grid you already have handy, you would just import the relevant function(s).  Here `make_xy_grid` and `cart_to_polar` are imported to create the grid, but they operate on and return ordinary arrays and are not special."
   ]
  },
  {
   "cell_type": "code",
   "execution_count": null,
   "metadata": {},
   "outputs": [],
   "source": [
    "from prysm.coordinates import make_xy_grid, cart_to_polar\n",
    "from prysm.polynomials import zernike_nm\n",
    "\n",
    "from matplotlib import pyplot as plt"
   ]
  },
  {
   "cell_type": "code",
   "execution_count": null,
   "metadata": {},
   "outputs": [],
   "source": [
    "x, y = make_xy_grid(256, diameter=2)\n",
    "r, t = cart_to_polar(x, y)\n",
    "\n",
    "focus = zernike_nm(4, 0, r, t)\n",
    "plt.imshow(focus)"
   ]
  },
  {
   "cell_type": "markdown",
   "metadata": {},
   "source": [
    "We will gloss over for a moment that the Zernike polynomials are orthogonal over the unit disk and the image contains points outside that domain.\n",
    "\n",
    "## Functions and Types\n",
    "\n",
    "If you use prysm for physical optics, you will find that it is predominantly composed of functions which the user can combine into higher level concepts with relatively few classes.  This is a conscious choice; we believe that it is easier to learn functions than type systems, and functions are often more composable than types, allowing fine-grained control of what operations are performed.\n",
    "\n",
    "If you have used some other physical optics programs before, you may be familiar with their concept of a Wavefront (PROPER) which is modified as you navigate the system, and all functions operate on the wavefront.  Similarly, POPPY has a concept of an OpticalSystem which sets up the problem.  These types are black boxes and difficult to penetrate.  Equivalent functionality is achieved in prysm by the user passing grids and other data around as function arguments.  For example, if you want to set up a model of a system with a circular aperture and some polynomial-based wavefront error, you would use functions from prysm or your own. to build the grids, functions to build the transmission function, and functions to build the phase error.\n",
    "\n",
    "To do any of these things, you need know nothing about any of the others, and there is no compromise or complexity introduced into any of them by the others.\n",
    "\n",
    "In this way, any slow calculations that need not be in loops may easily be kept out of loops by the user, an any repetitive calculations may be cached by the user without introducing any complexity into the underlying software.\n",
    "\n",
    "There are two exceptions to this:\n",
    "\n",
    "- optical propagation\n",
    "\n",
    "- interferometric data\n",
    "\n",
    "The reason these are exceptions is that it would be very repetitive to chain all of the necessary metadata through each function call, so a series of methods chained on classes fits the problem better.\n",
    "\n",
    "The entry point to interferometric analysis is loading a data file.  The entry point to optical propagation and diffraction are assembling the machinery to model pupils and other elements of the system and either running the code once, or many times either to iterate the model, or optimize elements of the system.\n",
    "\n",
    "## dx, or x?\n",
    "\n",
    "Some types in prysm have constructors which take args of x, y while others take dx.  prysm assumes rectilinear sampling, and `dy == dx` is implicitly assumed.  Essentially, optical propagation does not require knowledge of all of the coordinates so prysm does not track it.  However, some other calculations (like masking interferograms) _does_ require full knowledge of the grid, so these types track x and y."
   ]
  }
 ],
 "metadata": {
  "kernelspec": {
   "display_name": "Python 3",
   "language": "python",
   "name": "python3"
  },
  "language_info": {
   "codemirror_mode": {
    "name": "ipython",
    "version": 3
   },
   "file_extension": ".py",
   "mimetype": "text/x-python",
   "name": "python",
   "nbconvert_exporter": "python",
   "pygments_lexer": "ipython3",
   "version": "3.8.5"
  }
 },
 "nbformat": 4,
 "nbformat_minor": 4
}
