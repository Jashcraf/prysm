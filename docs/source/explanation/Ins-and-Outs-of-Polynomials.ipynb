{
 "cells": [
  {
   "cell_type": "markdown",
   "metadata": {},
   "source": [
    "# Ins and Outs of Polynomials\n",
    "\n",
    "This document serves as a reference for how prysm is set up to work with polynomials, in the context of OPD or surface figure error.  Much of what differentiates prysm's API in this area has to do with the fact that it [expects the grid to exist at the user level](./how-prysm-works.ipynb#Grids), but there are some deep and consequential implementation differences, too.  Before we get into those, we will create a working grid and a mask for visualization:"
   ]
  },
  {
   "cell_type": "code",
   "execution_count": null,
   "metadata": {},
   "outputs": [],
   "source": [
    "import numpy as np\n",
    "\n",
    "from prysm.coordinates import make_xy_grid, cart_to_polar\n",
    "from prysm.geometry import circle\n",
    "\n",
    "from matplotlib import pyplot as plt\n",
    "\n",
    "x, y = make_xy_grid(256, diameter=2)\n",
    "r, t = cart_to_polar(x, y)\n",
    "mask = ~circle(1,r)  # invert: mask is true outside the circle"
   ]
  },
  {
   "cell_type": "markdown",
   "metadata": {},
   "source": [
    "## Table of Contents\n",
    "\n",
    "### Bases:\n",
    "\n",
    "- [Hopkins](#Hopkins)\n",
    "- [Zernike](#Zernike)\n",
    "- [Jacobi](#Jacobi)\n",
    "- [Chebyshev](#Chebyshev)\n",
    "- [Legendre](#Legendre)\n",
    "- [Dickson](#Dickson)\n",
    "- [Qs](#Qs)\n",
    "\n",
    "Note that all polynomial types allow evaluation for arbitrary order.  First partial derivatives can be computed using the format `{polynomial}_der` or `{polynomial}_der_seq`.  1D polynomials are differentiated with respect to x.  2D polynomials are differentiated with respect to the coordiates they are defined over, e.g. rho, theta for Zernike and Q-type polynomials.  Differentiation is done analytically and does not rely on finite differences.\n",
    "\n",
    "### Fitting and Non-Circular Domains\n",
    "\n",
    "- [Fitting](#Fitting)\n",
    "- [Annular Domains](#Annular-Domains)\n",
    "- [Arbitrary Domains](#Arbitrary-Domains)\n",
    "\n",
    "## Hopkins\n",
    "\n",
    "The simplest polynomials are Hopkins':\n",
    "\n",
    "$$ \\text{OPD} = W_{abc} \\left[\\cos\\left(a\\cdot\\theta\\right) \\cdot \\rho^b \\cdot H^c \\right]$$"
   ]
  },
  {
   "cell_type": "markdown",
   "metadata": {},
   "source": [
    "for some set of coefficients.  The usage of this should not be surprising, for $W_{131}$, coma one can write:"
   ]
  },
  {
   "cell_type": "code",
   "execution_count": null,
   "metadata": {},
   "outputs": [],
   "source": [
    "from prysm.polynomials import hopkins\n",
    "cma = hopkins(1, 3, 1, r, t, 1)\n",
    "cma[mask]=np.nan\n",
    "plt.imshow(cma)\n",
    "ax = plt.gca()"
   ]
  },
  {
   "cell_type": "markdown",
   "metadata": {},
   "source": [
    "Note that we defined our grid to have a radius of 1, but often you may hold two copies of r, one which is normalized by some reference radius for polynomial evaluation, and one which is not for pupil geometry evaluation.  There is no further complexity in using Hopkins' polynomials."
   ]
  },
  {
   "cell_type": "markdown",
   "metadata": {},
   "source": [
    "## Zernike\n",
    "\n",
    "prysm has a fairly granular implementation of Zernike polynomials, and expects its users to assemble the pieces to synthesize higher order functionality.  The basic building block is the `zernike_nm` function, which takes azimuthal and radial orders n and m, as in $Z_n^m$.  For example, to compute the equivalent \"primary coma\" Zernike mode as the hopkins example, one would:"
   ]
  },
  {
   "cell_type": "code",
   "execution_count": null,
   "metadata": {},
   "outputs": [],
   "source": [
    "from prysm.polynomials import zernike_nm\n",
    "cmaZ = zernike_nm(3,1, r,t, norm=True)\n",
    "cmaZ[mask]=np.nan\n",
    "plt.imshow(cmaZ)"
   ]
  },
  {
   "cell_type": "markdown",
   "metadata": {},
   "source": [
    "Note that the terms can be orthonormalized (given unit RMS) or not, based on the `norm` kwarg.  The order `m` can be negative to give access to the sinusoidal terms instead of cosinusoidal.  If you wish to work with a particular ordering scheme, prysm supports Fringe, Noll, and ANSI out of the box, all of which start counting at 1."
   ]
  },
  {
   "cell_type": "code",
   "execution_count": null,
   "metadata": {},
   "outputs": [],
   "source": [
    "from prysm.polynomials import noll_to_nm, fringe_to_nm, ansi_j_to_nm\n",
    "\n",
    "n, m = fringe_to_nm(9)\n",
    "sphZ = zernike_nm(n, m, r, t, norm=False)\n",
    "sphZ[mask]=np.nan\n",
    "plt.imshow(sphZ)"
   ]
  },
  {
   "cell_type": "markdown",
   "metadata": {},
   "source": [
    "These functions are not iterator-aware and should be used with, say, a list comprehension."
   ]
  },
  {
   "cell_type": "markdown",
   "metadata": {},
   "source": [
    "If you wish to compute Zernikes much more quickly, the underlying implementation in prysm allows the work in computing lower order terms to be used to compute the higher order terms.  The Zernike polynomials are fundamentally two \"pieces\" which get multiplied.  The radial basis is where much of the work lives, and most programs that do not type out closed form solutions use Rodrigues' technique to compute the radial basis:\n",
    "\n",
    "$$\n",
    "R_n^m (\\rho) = \\sum_{k=0}^{\\frac{n-m}{2}} \\frac{(-1)^k (n-k)!}{k!(\\frac{n+m}{2}-k)!(\\frac{n-m}{2}-k)!}\\rho^{n-2k} \\tag{1}\n",
    "$$\n",
    "\n",
    "prysm does not do this, and instead uses the fact that the radial polynomial is a Jacobi polynomial under a change-of-basis:\n",
    "\n",
    "$$\n",
    "R_n^m (\\rho) = P_\\frac{n-m}{2}^{\\left(0,|m|\\right)}\\left(2\\rho^2 - 1\\right) \\tag{2}\n",
    "$$\n",
    "\n",
    "And the jacobi polynomials can be computed using a recurrence relation:\n",
    "$$\n",
    "a \\cdot P_n^{(\\alpha,\\beta)} = b \\cdot x \\cdot P_{n-1}^{(\\alpha,\\beta)} - c \\cdot P_{n-2}^{(\\alpha,\\beta)} \\tag{3}\n",
    "$$\n",
    "\n",
    "In other words, for a given $m$, you can compute $R$ for $n=3$ from $R$ for $n=2$ and $n=1$, and so on until you reach the highest value of N.  Because the sum in the Rodrigues formulation is increasingly large as $n,m$ grow, it has worse than linear time complexity.  Because the recurrrence in Eq. (3) does not change as $n,m$ grow it _does_ have linear time complexity.\n",
    "\n",
    "The use of this recurrence relation is hidden from the user in the `zernike_nm` function, and the recurrence relation is for a so-called auxiliary polynomial ($R$), so the Zernike polynomials themselves are not useful for this recurrence.  You _can_ make use of it by calling the `zernike_nm_seq` function, a naming that will become familiar by the end of this reference guide.  Consider the first 16 Fringe Zernikes:"
   ]
  },
  {
   "cell_type": "code",
   "execution_count": null,
   "metadata": {},
   "outputs": [],
   "source": [
    "from prysm.polynomials import zernike_nm_seq\n",
    "\n",
    "nms = [fringe_to_nm(i) for i in range(1,36)]\n",
    "\n",
    "# zernike_nm_seq returns a cube of shape (len(nms), *r.shape)\n",
    "%timeit basis = zernike_nm_seq(nms, r, t) # implicit norm=True"
   ]
  },
  {
   "cell_type": "markdown",
   "metadata": {},
   "source": [
    "Compare the timing to not using the seq flavored version:"
   ]
  },
  {
   "cell_type": "code",
   "execution_count": null,
   "metadata": {},
   "outputs": [],
   "source": [
    "%%timeit\n",
    "for n, m in nms:\n",
    "    zernike_nm(n, m, r, t)"
   ]
  },
  {
   "cell_type": "markdown",
   "metadata": {},
   "source": [
    "These is no benefit other than performance to the `_seq` version of the function, but their usage is highly encouraged.  A side benefit to the recurrence relation is that it is numerically stable to higher order than Rodrigues' expression, so you can compute higher order Zernike polynomials without numerical errors.  This is an especially useful property for using lower-precision data types like float32, since they will suffer from numerical imprecision earlier."
   ]
  },
  {
   "cell_type": "markdown",
   "metadata": {},
   "source": [
    "## Jacobi \n",
    "Of course, because the Zernike polynomials are related to them you also have access to the Jacobi polynomials:"
   ]
  },
  {
   "cell_type": "code",
   "execution_count": null,
   "metadata": {},
   "outputs": [],
   "source": [
    "from prysm.polynomials import jacobi, jacobi_seq\n",
    "\n",
    "x_ = x[0,:] # not required to be 1D, just for example\n",
    "plt.plot(x_, jacobi_seq([1,2,3,4,5],0,0,x_).T)"
   ]
  },
  {
   "cell_type": "markdown",
   "metadata": {},
   "source": [
    "These shapes may be familiar to Zernike polynomials."
   ]
  },
  {
   "cell_type": "markdown",
   "metadata": {},
   "source": [
    "## Chebyshev\n",
    "\n",
    "All four types of Chevyshev polynomials are supported.  They are just special cases of Jacobi polynomials.  The first and second kind are common:\n",
    "\n",
    "$$ T(x) = \\text{cheby1}  \\equiv P_n^{\\left(-0.5,-0.5\\right)}(x) \\quad / \\quad P_n^{\\left(-0.5,-0.5\\right)}(1)$$\n",
    "$$ U(x) = \\text{cheby2}  \\equiv (n+1) P_n^{\\left(0.5,0.5\\right)}(x) \\quad / \\quad P_n^{\\left(0.5,0.5\\right)}(1)$$\n",
    "\n",
    "While the third and fourth kind are more obscure:\n",
    "\n",
    "$$ V(x) = \\text{cheby3}  \\equiv P_n^{\\left(-0.5,0.5\\right)}(x) \\quad / \\quad P_n^{\\left(-0.5,0.5\\right)}(1)$$\n",
    "$$ W(x) = \\text{cheby4}  \\equiv (2n+1) P_n^{\\left(0.5,-0.5\\right)}(x) \\quad / \\quad P_n^{\\left(0.5,-0.5\\right)}(1)$$"
   ]
  },
  {
   "cell_type": "code",
   "execution_count": null,
   "metadata": {},
   "outputs": [],
   "source": [
    "from prysm.polynomials import cheby1, cheby2, cheby1_seq, cheby3, cheby4"
   ]
  },
  {
   "cell_type": "code",
   "execution_count": null,
   "metadata": {},
   "outputs": [],
   "source": [
    "fs = [cheby1, cheby2, cheby3, cheby4]\n",
    "n = 5\n",
    "for f in fs:\n",
    "    plt.plot(x_, f(n,x_))\n",
    "plt.legend(['first kind', 'second kind', 'third kind', 'fourth kind'])"
   ]
  },
  {
   "cell_type": "markdown",
   "metadata": {},
   "source": [
    "## Legendre\n",
    "\n",
    "These polynomials are just a special case of Jacobi polynomials:\n",
    "\n",
    "$$ \\text{legendre} \\equiv P_n^{\\left(0,0\\right)}(x) $$\n",
    "\n",
    "Usage follows from the [Chebyshev](#Chebyshev) exactly, except the functions are prefixed by `legendre`.  No plots here - they would be identical to those from the Jacobi section."
   ]
  },
  {
   "cell_type": "code",
   "execution_count": null,
   "metadata": {},
   "outputs": [],
   "source": [
    "from prysm.polynomials import legendre, legendre_seq"
   ]
  },
  {
   "cell_type": "markdown",
   "metadata": {},
   "source": [
    "## Dickson\n",
    "These polynomials use a two-term recurrence relation, but are not based on Jacobi polynomials.  For the Dickson polynomials of the first kind $D$:\n",
    "\n",
    "$$\n",
    "\\begin{align}\n",
    "D_{n+1} &= x \\cdot D_n - \\alpha D_{n-1} \\\\\n",
    "D_0 &= 2 \\\\\n",
    "D_1 &= x\n",
    "\\end{align}\n",
    "$$\n",
    "\n",
    "And the second kind $E$:\n",
    "\n",
    "$$\n",
    "\\begin{align}\n",
    "E_{n+1} &= x \\cdot E_n - \\alpha E_{n-1} \\\\\n",
    "E_0 &= 1 \\\\\n",
    "E_1 &= x\n",
    "\\end{align}\n",
    "$$\n",
    "\n",
    "The interface is once again the same:"
   ]
  },
  {
   "cell_type": "code",
   "execution_count": null,
   "metadata": {},
   "outputs": [],
   "source": [
    "from prysm.polynomials import (\n",
    "    dickson1, dickson1_seq,\n",
    "    dickson2, dickson2_seq\n",
    ")"
   ]
  },
  {
   "cell_type": "code",
   "execution_count": null,
   "metadata": {},
   "outputs": [],
   "source": [
    "x_ = x[0,:] # not required to be 1D, just for example\n",
    "# dickson with alpha=0 are monomials x^n, or use alpha=-1 for Fibonacci polynomials\n",
    "plt.plot(x_, dickson1_seq([1,2,3,4,5], 0, x_).T)\n",
    "plt.title('Dickson1')"
   ]
  },
  {
   "cell_type": "code",
   "execution_count": null,
   "metadata": {},
   "outputs": [],
   "source": [
    "x_ = x[0,:] # not required to be 1D, just for example\n",
    "# dickson with alpha=0 are monomials x^n, or use alpha=-1 for Fibonacci polynomials\n",
    "plt.plot(x_, dickson2_seq([1,2,3,4,5], -1, x_).T)\n",
    "plt.title('Dickson2')"
   ]
  },
  {
   "cell_type": "markdown",
   "metadata": {},
   "source": [
    "## Qs\n",
    "\n",
    "Qs are Greg Forbes' Q polynomials, $Q\\text{bfs}$, $Q\\text{con}$, and $Q_n^m$.  Qbfs and Qcon polynomials are radial only, and replace the 'standard' asphere equation.  The implementation of all three of these also uses a recurrence relation, although it is more complicated and outside the scope of this reference guide.  Each includes the leading prefix from the papers:\n",
    "\n",
    "- $\\rho^2(1-\\rho^2)$ for $Q\\text{bfs}$,\n",
    "- $\\rho^4$ for $Q\\text{con}$,\n",
    "- the same as $Q\\text{bfs}$ for $Q_n^m$ when $m=0$ or $\\rho^m \\cos\\left(m\\theta\\right)$ for $m\\neq 0$\n",
    "\n",
    "The $Q_n^m$ implementation departs from the papers in order to have a more Zernike-esque flavor.  Instead of having $a,b$ coefficients and $a$ map to $\\cos$ and $b$ to $\\sin$, this implementation uses the sign of $m$, with $\\cos$ for $m>0$ and $\\sin$ for $m<0$.\n",
    "\n",
    "There are six essential functions:"
   ]
  },
  {
   "cell_type": "code",
   "execution_count": null,
   "metadata": {},
   "outputs": [],
   "source": [
    "from prysm.polynomials import (\n",
    "    Qbfs, Qbfs_seq,\n",
    "    Qcon, Qcon_seq,\n",
    "    Q2d, Q2d_seq,\n",
    ")"
   ]
  },
  {
   "cell_type": "code",
   "execution_count": null,
   "metadata": {},
   "outputs": [],
   "source": [
    "p = Qbfs(2,r)\n",
    "p[mask]=np.nan\n",
    "plt.imshow(p)"
   ]
  },
  {
   "cell_type": "code",
   "execution_count": null,
   "metadata": {},
   "outputs": [],
   "source": [
    "p = Qcon(2,r)\n",
    "p[mask]=np.nan\n",
    "plt.imshow(p)"
   ]
  },
  {
   "cell_type": "code",
   "execution_count": null,
   "metadata": {},
   "outputs": [],
   "source": [
    "p = Q2d(2, 2, r, t) # cosine term\n",
    "p[mask]=np.nan\n",
    "plt.imshow(p)"
   ]
  },
  {
   "cell_type": "code",
   "execution_count": null,
   "metadata": {},
   "outputs": [],
   "source": [
    "p2 = Q2d(2, -2, r, t) # sine term\n",
    "p2[mask]=np.nan\n",
    "plt.imshow(p2)"
   ]
  },
  {
   "cell_type": "code",
   "execution_count": null,
   "metadata": {},
   "outputs": [],
   "source": [
    "p2 = Q2d(2, -2, r, t) # sine term\n",
    "p2[mask]=np.nan\n",
    "plt.imshow(p2)"
   ]
  },
  {
   "cell_type": "markdown",
   "metadata": {},
   "source": [
    "## XY\n",
    "\n",
    "XY polynomials are implemented in the same manner as Code V.  A monoindexing scheme that is identical to Code V (**beginning from j=2**) is provided:"
   ]
  },
  {
   "cell_type": "code",
   "execution_count": null,
   "metadata": {},
   "outputs": [],
   "source": [
    "from prysm.polynomials import (\n",
    "    xy_polynomial,\n",
    "    xy_polynomial_seq,\n",
    "    j_to_xy\n",
    ")"
   ]
  },
  {
   "cell_type": "markdown",
   "metadata": {},
   "source": [
    "## Annular Domains\n",
    "\n",
    "prysm does not have explicit implementations of annular polynomials, for example Mahajan's annular Zernikes.  Because all of the polynomial routines recursively generate the basis sets based on the input coordinates, modifications of the grid will produce versions of the polynomials that are orthogonal over the new domain, such as an annulus.  This underlying technique is actually how the radial basis of the Zernike polynomials is calculated.  The coordinates module features a `distort_annular_grid` function that performs this modification to a circle.  We will use it tho show Annular Zernikes.  We begin by making a circular aperture with huge central obscuration:"
   ]
  },
  {
   "cell_type": "code",
   "execution_count": null,
   "metadata": {},
   "outputs": [],
   "source": [
    "eps = 0.5\n",
    "maskod = circle(1, r)\n",
    "maskid = circle(eps, r)\n",
    "mask = maskod ^ maskid\n",
    "plt.imshow(mask)\n",
    "plt.title('Annular aperture')"
   ]
  },
  {
   "cell_type": "markdown",
   "metadata": {},
   "source": [
    "Then we compute a distorted grid and call the polynomial routines as you would in any other case.  Note that the `norm` keyword argument uses analytic norms, which are not correct on distorted grids.  A helper function is provided by the polynomials module, `normalize_modes` to enforce normalizations on modes."
   ]
  },
  {
   "cell_type": "code",
   "execution_count": null,
   "metadata": {},
   "outputs": [],
   "source": [
    "from prysm.coordinates import distort_annular_grid\n",
    "from prysm.polynomials import normalize_modes"
   ]
  },
  {
   "cell_type": "code",
   "execution_count": null,
   "metadata": {},
   "outputs": [],
   "source": [
    "x, y = make_xy_grid(mask.shape, diameter=2)\n",
    "r, t = cart_to_polar(x, y)\n",
    "\n",
    "ran = distort_annular_grid(r, eps)\n",
    "\n",
    "# nms = [noll_to_nm(j) for j in range(1,12)] # up to primary spherical\n",
    "js = range(1,36)\n",
    "nms = [fringe_to_nm(j) for j in js]\n",
    "\n",
    "basis = zernike_nm_seq(nms, ran, t, norm=False)\n",
    "basis = normalize_modes(basis, mask, to='std')\n",
    "# basis_in_ap = basis[:,mask]\n",
    "# print(basis_in_ap.shape)\n",
    "# std_per_coef = basis_in_ap.std(axis=1)\n",
    "\n",
    "# newaxis broadcasts (11,) -> (11,1,1) for numpy broadcast semantics\n",
    "# basis = basis * (1/std_per_coef[:,np.newaxis,np.newaxis])\n",
    "fig, axs = plt.subplots(ncols=4, figsize=(12,3))\n",
    "for ax, i, name in zip(axs, (3,4,6,8), ('Power', 'Astigmatism', 'Coma', 'Spherical Aberration')):\n",
    "    mode = basis[i].copy()\n",
    "    mode[~mask]=np.nan\n",
    "    ax.imshow(mode, cmap='RdBu')\n",
    "    ax.set(title=name)"
   ]
  },
  {
   "cell_type": "markdown",
   "metadata": {},
   "source": [
    "We can compare these distorted modes to ordinary Zernike polynomials:"
   ]
  },
  {
   "cell_type": "code",
   "execution_count": null,
   "metadata": {},
   "outputs": [],
   "source": [
    "# note: r instead of ran, the undistorted grid\n",
    "basis2 = zernike_nm_seq(nms, r, t, norm=False)\n",
    "fig, axs = plt.subplots(ncols=4, figsize=(12,3))\n",
    "for ax, i, name in zip(axs, (3,4,6,8), ('Power', 'Astigmatism', 'Coma', 'Spherical Aberration')):\n",
    "    mode = basis2[i].copy()\n",
    "    mode[~mask]=np.nan\n",
    "    ax.imshow(mode, cmap='RdBu')"
   ]
  },
  {
   "cell_type": "markdown",
   "metadata": {},
   "source": [
    "The `lstsq` function ignores data points marked as NaN, the variable `basis` from the block containing `eps` would be used in a least squares fit as per usual.  This method is compatible with all polynomial basis and is not limited to Zernikes.  Grid distortions that turn other shapes into a unit domain are similarly compatible, but they are not implemented in prysm at this time."
   ]
  },
  {
   "cell_type": "markdown",
   "metadata": {},
   "source": [
    "## Arbitrary Domains\n",
    "\n",
    "The grid distortion trick provided out-of-the-box for annular apertures is very easy to implement and use for an annulus, and similarly easy for an ellipse.  More complex aperture shapes such as hexagons are less straightforward to derive a grid distortion for.  For these use cases, or to provide an alternative orthogonalization approach for annular apertures, prysm features a QR factorization based orthogonalization approach over an arbitrary aperture.  This is similar to performing a Gram-Schmidt process.  We'll repeat the annular example first:"
   ]
  },
  {
   "cell_type": "code",
   "execution_count": null,
   "metadata": {},
   "outputs": [],
   "source": [
    "from prysm.polynomials import orthogonalize_modes"
   ]
  },
  {
   "cell_type": "code",
   "execution_count": null,
   "metadata": {},
   "outputs": [],
   "source": [
    "basis3 = orthogonalize_modes(basis2, mask)\n",
    "basis3 = normalize_modes(basis3, mask)\n",
    "\n",
    "# purely cosmetic for plotting\n",
    "nmask = ~mask\n",
    "basis[:,nmask] = np.nan\n",
    "basis2[:,nmask] = np.nan\n",
    "basis3[:,nmask] = np.nan\n",
    "\n",
    "fig, axs = plt.subplots(ncols=4, nrows=3, figsize=(12,9))\n",
    "j = 0\n",
    "for i, name in zip((3,4,6,8), ('Power', 'Astigmatism', 'Coma', 'Spherical Aberration')):\n",
    "    raw_mode = basis2[i]\n",
    "    grid_distorted_mode = basis[i]\n",
    "    qr_mode = basis3[i]\n",
    "    axs[0,j].imshow(raw_mode, cmap='RdBu')\n",
    "    axs[1,j].imshow(grid_distorted_mode, cmap='RdBu')\n",
    "    axs[2,j].imshow(qr_mode, cmap='RdBu')\n",
    "    axs[0,j].set_title(name)\n",
    "    j += 1\n",
    "\n",
    "axs[0,0].set(ylabel='Circle Zernikes')\n",
    "axs[1,0].set(ylabel='Annular Zernikes')\n",
    "axs[2,0].set(ylabel='QR Orthogonalized Zernikes')\n",
    "\n",
    "for ax in axs.ravel():\n",
    "    ax.set_xticks([])\n",
    "    ax.set_yticks([])"
   ]
  },
  {
   "cell_type": "markdown",
   "metadata": {},
   "source": [
    "Note that both the basis generated by grid distortion and QR decomposition are orthogonal.  In the same way that there are many orthogonal bases included in prysm, these are just different orthogonal sets derived from Zernike polynomials (which are themselves derived from Jacobi polynomials).  We'll now show a second example, for a hexagonal aperture:"
   ]
  },
  {
   "cell_type": "code",
   "execution_count": null,
   "metadata": {},
   "outputs": [],
   "source": [
    "from prysm.geometry import regular_polygon"
   ]
  },
  {
   "cell_type": "code",
   "execution_count": null,
   "metadata": {},
   "outputs": [],
   "source": [
    "# whimsically rotated to show rarely used features\n",
    "hexap = regular_polygon(6, 1, x, y, rotation=0)\n",
    "im = plt.imshow(hexap, interpolation='bilinear')\n",
    "plt.colorbar(im)"
   ]
  },
  {
   "cell_type": "code",
   "execution_count": null,
   "metadata": {},
   "outputs": [],
   "source": [
    "basis2 = zernike_nm_seq(nms, r, t, norm=True)\n",
    "basis3 = orthogonalize_modes(basis2, hexap)\n",
    "basis3 = normalize_modes(basis3, hexap, to='std')\n",
    "\n",
    "# this masking is cosmetic only for plotting!\n",
    "basis3[:, ~hexap] = np.nan\n",
    "\n",
    "fig, axs = plt.subplots(ncols=4, nrows=2, figsize=(12,6))\n",
    "j = 0\n",
    "cl = (-3,3)\n",
    "for i, name in zip((3,6,10,28), ('Power', 'Coma', 'Trefoil', 'Primary Quadrafoil')):\n",
    "    raw_mode = basis2[i]\n",
    "    raw_mode[~hexap] = np.nan\n",
    "    qr_mode = basis3[i]\n",
    "    axs[0,j].imshow(raw_mode, cmap='RdBu', clim=cl)\n",
    "    axs[1,j].imshow(qr_mode, cmap='RdBu', clim=cl)\n",
    "    axs[0,j].set_title(name)\n",
    "    j += 1\n",
    "\n",
    "axs[0,0].set(ylabel='Circle Zernikes')\n",
    "axs[1,0].set(ylabel='QR Orthogonalized Zernikes')\n",
    "\n",
    "for ax in axs.ravel():\n",
    "    ax.set_xticks([])\n",
    "    ax.set_yticks([])"
   ]
  },
  {
   "cell_type": "markdown",
   "metadata": {},
   "source": [
    "The similarity of the power, coma, and trefoil modes and dissimilarity of the higher order mode highlight a property of all polynomials: they are extremely similar, and largely irrespective of the domain for lower order modes.  Higher order modes will distort significantly to match any given domain.  If you are largely interested in lower order behaviors, orthogonality will likely not matter to you.  It is only when concerned with higher order modes that orthogonality will be of significance.\n",
    "\n",
    "An additional property of using QR factorization, Gram-Schmidt, SVD, or other processes to produce orthogonal bases is that the output mode shapes depends on every detail of the inputs.  If the input basis changes, for example expanding Z1-Z11 in one case and Z1-Z36 in another, the output changes.  Similarly, the normalization radius of the input Zernikes (if those are used) must be specified consistently, as well as the exact centering between the polynomials and the aperture.  When the grid distortion techniques shown previously for annular apertures are used, the only relevant one of these effects is grid centering, which only impacts orthogonality and not mode shapes."
   ]
  }
 ],
 "metadata": {
  "kernelspec": {
   "display_name": "Python 3 (ipykernel)",
   "language": "python",
   "name": "python3"
  },
  "language_info": {
   "codemirror_mode": {
    "name": "ipython",
    "version": 3
   },
   "file_extension": ".py",
   "mimetype": "text/x-python",
   "name": "python",
   "nbconvert_exporter": "python",
   "pygments_lexer": "ipython3",
   "version": "3.11.5"
  }
 },
 "nbformat": 4,
 "nbformat_minor": 4
}
