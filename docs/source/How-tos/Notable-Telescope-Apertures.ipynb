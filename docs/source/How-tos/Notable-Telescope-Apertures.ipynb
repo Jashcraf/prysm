{
 "cells": [
  {
   "cell_type": "markdown",
   "id": "otherwise-bonus",
   "metadata": {},
   "source": [
    "# Notable Telescope Apertures\n",
    "\n",
    "This notebook will show how to use prysm to paint the apertures of notable telescopes.  Further modeling of these observatories will not be given here, and requries additional data (e.g., OPD maps or coefficients, masks) not widely available.  It is assumed the user sufficiently understands the components used to not require explanation of details.  All parameters are based on publically shown values and may be imprecise.  If you are a member of the science or engineering team for these systems, you should check all parameters against internal values.  \n",
    "\n",
    "Links jump to telescopes:\n",
    "\n",
    "- [HST](#HST)\n",
    "- [JWST](#JWST)\n",
    "- [LUVOIR-A](#LUVOIR-A)\n",
    "- [LUVOIR-B](#LUVOIR-B)\n",
    "- [HabEx-A](#HabEx-A)\n",
    "- [HabEx-B](#HabEx-B)"
   ]
  },
  {
   "cell_type": "code",
   "execution_count": null,
   "id": "neither-sally",
   "metadata": {},
   "outputs": [],
   "source": [
    "import numpy as np\n",
    "\n",
    "from prysm.coordinates import make_xy_grid, cart_to_polar\n",
    "from prysm.geometry import spider, circle, offset_circle\n",
    "from prysm.segmented import composite_hexagonal_aperture\n",
    "\n",
    "from matplotlib import pyplot as plt"
   ]
  },
  {
   "cell_type": "markdown",
   "id": "binary-geology",
   "metadata": {},
   "source": [
    "## HST\n",
    "\n",
    "HST has a primary mirror of diameter 2.4 m with 32% linear obscuration, and four spiders of 38 mm diameter rotated 45$^\\circ$ from the cardinal axes.  There are an additional three small circular obscurations from pads used to secure the primary mirror.  The pads are 95% of the way to the edge of the mirror at ccw angles w.r.t. the x axis of -45, -165, and +75 degrees and have each a diameter of 150 mm."
   ]
  },
  {
   "cell_type": "code",
   "execution_count": null,
   "id": "caring-essay",
   "metadata": {},
   "outputs": [],
   "source": [
    "x, y = make_xy_grid(512, diameter=2.4)\n",
    "r, t = cart_to_polar(x, y)\n",
    "\n",
    "pm_od = circle(2.4/2, r)\n",
    "pm_id = circle(2.4/2*.32, r)\n",
    "mask = pm_od ^ pm_id # or pm_od & ~pm_id\n",
    "plt.imshow(mask, cmap='gray')"
   ]
  },
  {
   "cell_type": "markdown",
   "id": "informative-apache",
   "metadata": {},
   "source": [
    "After shading the primary, we now compute the spider and pad obscurations:"
   ]
  },
  {
   "cell_type": "code",
   "execution_count": null,
   "id": "foreign-hollywood",
   "metadata": {},
   "outputs": [],
   "source": [
    "spider_ = spider(4, 0.038, x, y, 45)\n",
    "pads_r = 0.90*2.4/2\n",
    "pad_angles = [np.radians(a) for a in [-45, -165, 75]]\n",
    "pad_centers = [(pads_r*np.cos(a), pads_r*np.sin(a)) for a in pad_angles]\n",
    "pads = [offset_circle(.075, x, y, c) for c in pad_centers]\n",
    "\n",
    "# pads before this point is a list of the points INSIDE each circle.\n",
    "# logical or, |, below produces a mask of \"pixels inside ANY circle\"\n",
    "# these are an obscuration, so we invert it with ~\n",
    "pads = (pads[0]|pads[1]|pads[2])\n",
    "hst_pupil = mask & spider_ & ~pads\n",
    "plt.imshow(hst_pupil, origin='lower', cmap='gray', extent=[x.min(), x.max(), y.min(), y.max()])\n",
    "plt.title('Fully composited HST aperture')"
   ]
  },
  {
   "cell_type": "code",
   "execution_count": null,
   "id": "fifteen-audience",
   "metadata": {},
   "outputs": [],
   "source": [
    "pad_centers"
   ]
  },
  {
   "cell_type": "markdown",
   "id": "verified-scenario",
   "metadata": {},
   "source": [
    "## JWST\n",
    "\n",
    "<!-- This notebook will show how to use prysm to model the JWST.  The principle features of the JWST shown here are the shape of its pupil as well as both per-segment and aperture-wide wavefront errors.  Obviously JWST is a high complexity observatory, and each of its instruments are also complicated.  We will begin from the front of the observatory and not cover any radiometric or polychromatic topics in detail, users can compose these topics with what is presented here. -->\n",
    "\n",
    "<!-- To avoid running afoul of any export restrictions, we will also use only publicly available, unlimited release values in constructing this model.  This means that if you actually want to JWST with a program inspired by what is here, you need to check and likely replace all values with the unpublicized versions. -->"
   ]
  },
  {
   "cell_type": "markdown",
   "id": "suitable-announcement",
   "metadata": {},
   "source": [
    "JWST is a 2-ring segmented hexagonal design.  The central segment is missing, and there is a upside-down \"Y\" strut system to hold the secondary.  The segments are 1.32 m flat-to-flat, with 7 mm airgaps between.  We first paint the hexagons:"
   ]
  },
  {
   "cell_type": "code",
   "execution_count": null,
   "id": "basic-child",
   "metadata": {},
   "outputs": [],
   "source": [
    "x, y = make_xy_grid(512, diameter=6.6)\n",
    "\n",
    "vtov, centers, windows, local_coords, local_masks, segment_ids, mask = composite_hexagonal_aperture(2, 1.32, 0.007, x, y, exclude=(0,))\n",
    "\n",
    "plt.imshow(mask, origin='lower', cmap='gray', extent=[x.min(), x.max(), y.min(), y.max()])"
   ]
  },
  {
   "cell_type": "markdown",
   "id": "mysterious-matter",
   "metadata": {},
   "source": [
    "And create the secondary struts, adding them to the mask:"
   ]
  },
  {
   "cell_type": "code",
   "execution_count": null,
   "id": "bored-hometown",
   "metadata": {},
   "outputs": [],
   "source": [
    "m1 = spider(1, .1, x, y, rotation=-120)\n",
    "m2 = spider(1, .1, x, y, rotation=-60)\n",
    "m3 = spider(1, .1, x, y, rotation=90)\n",
    "spider_ = m1&m2&m3\n",
    "plt.imshow(mask&spider_, origin='lower', cmap='gray', extent=[x.min(), x.max(), y.min(), y.max()])\n",
    "plt.title('Fully composited JWST aperture')"
   ]
  },
  {
   "cell_type": "markdown",
   "id": "applied-insured",
   "metadata": {},
   "source": [
    "## LUVOIR-A\n",
    "\n",
    "LUVOIR-A (as of the 2018 new design) contains 120 hexagonal segments of flat-to-flat dimension 1.223 m.  Only the central segment is missing.  The strut design is essentially the same as JWST.  The first step in defining the aperture is to indicate which segment has which ID from prysm (which are deterministic) and mark the ones missing from the observatory for exclusion:"
   ]
  },
  {
   "cell_type": "code",
   "execution_count": null,
   "id": "unknown-effort",
   "metadata": {},
   "outputs": [],
   "source": [
    "x, y = make_xy_grid(512, diameter=15)\n",
    "\n",
    "vtov, centers, windows, local_coords, local_masks, segment_ids, mask = composite_hexagonal_aperture(6, 1.223, 0.007, x, y, exclude=(0,))\n",
    "\n",
    "fig, ax = plt.subplots(figsize=(10,10))\n",
    "ax.imshow(mask, origin='lower', cmap='gray', extent=[x.min(), x.max(), y.min(), y.max()])\n",
    "for center, id_ in zip(centers, segment_ids):\n",
    "    plt.text(*center, id_)"
   ]
  },
  {
   "cell_type": "markdown",
   "id": "frank-thanksgiving",
   "metadata": {},
   "source": [
    "Note that we have discarded all of the other information from the composition process, which will be identical to the previous invocation.  We now add the spider, pretty much the same as JWST:"
   ]
  },
  {
   "cell_type": "code",
   "execution_count": null,
   "id": "lucky-attempt",
   "metadata": {},
   "outputs": [],
   "source": [
    "exclude = [\n",
    "    0,\n",
    "    91,\n",
    "    109,\n",
    "    97,\n",
    "    103,\n",
    "    115,\n",
    "    121\n",
    "]\n",
    "\n",
    "*_, mask = composite_hexagonal_aperture(6, 1.223, 0.007, x, y, exclude=exclude)\n",
    "\n",
    "m1 = spider(1, .2, x, y, rotation=-105)\n",
    "m2 = spider(1, .2, x, y, rotation=-75)\n",
    "m3 = spider(1, .2, x, y, rotation=90)\n",
    "spider_ = m1&m2&m3\n",
    "plt.imshow(mask&spider_, origin='lower', cmap='gray', extent=[x.min(), x.max(), y.min(), y.max()])\n",
    "plt.title('Fully composited LUVOIR-A aperture')"
   ]
  },
  {
   "cell_type": "markdown",
   "id": "tested-validation",
   "metadata": {},
   "source": [
    "## LUVOIR-B\n",
    "\n",
    "LUVOIR-B is a smaller, unobscured co-design to LUVOIR-A using the same segment architecture.  We follow a similar two-step shading process to find which segment IDs must be excluded:"
   ]
  },
  {
   "cell_type": "code",
   "execution_count": null,
   "id": "typical-petersburg",
   "metadata": {},
   "outputs": [],
   "source": [
    "x, y = make_xy_grid(512, diameter=8)\n",
    "\n",
    "vtov, centers, windows, local_coords, local_masks, segment_ids, mask = composite_hexagonal_aperture(4, 0.955, 0.007, x, y, exclude=[])\n",
    "\n",
    "fig, ax = plt.subplots(figsize=(10,10))\n",
    "ax.imshow(mask, origin='lower', cmap='gray', extent=[x.min(), x.max(), y.min(), y.max()])\n",
    "for center, id_ in zip(centers, segment_ids):\n",
    "    plt.text(*center, id_)"
   ]
  },
  {
   "cell_type": "code",
   "execution_count": null,
   "id": "robust-albania",
   "metadata": {},
   "outputs": [],
   "source": [
    "exclude = [\n",
    "    37,\n",
    "    41,\n",
    "    45,\n",
    "    49,\n",
    "    53,\n",
    "    57\n",
    "]\n",
    "\n",
    "*_, mask = composite_hexagonal_aperture(4, 0.955, 0.007, x, y, exclude=exclude)\n",
    "plt.imshow(mask, origin='lower', cmap='gray', extent=[x.min(), x.max(), y.min(), y.max()])\n",
    "plt.title('Fully composited LUVOIR-B aperture')"
   ]
  },
  {
   "cell_type": "markdown",
   "id": "coordinated-nightmare",
   "metadata": {},
   "source": [
    "## HabEx-A\n",
    "\n",
    "Habex architecture A is a 4m unobscured system, which is extremely simple to model:"
   ]
  },
  {
   "cell_type": "code",
   "execution_count": null,
   "id": "mobile-fifty",
   "metadata": {},
   "outputs": [],
   "source": [
    "x, y = make_xy_grid(512, diameter=4)\n",
    "r, t = cart_to_polar(x, y)\n",
    "mask = circle(2, r)\n",
    "\n",
    "plt.imshow(mask, origin='lower', cmap='gray', extent=[x.min(), x.max(), y.min(), y.max()])\n",
    "plt.title('Fully composited HabEx A pupil')"
   ]
  },
  {
   "cell_type": "markdown",
   "id": "injured-amendment",
   "metadata": {},
   "source": [
    "## HabEx-B\n",
    "\n",
    "Habex architecture B is an unobscured pupil of 6.5 m diameter based on a 3-ring fully populated hexagonal composition"
   ]
  },
  {
   "cell_type": "code",
   "execution_count": null,
   "id": "distant-positive",
   "metadata": {},
   "outputs": [],
   "source": [
    "x, y = make_xy_grid(512, diameter=6.5)\n",
    "\n",
    "vtov, centers, windows, local_coords, local_masks, segment_ids, mask = composite_hexagonal_aperture(3, 0.825, 0.007, x, y, exclude=[])\n",
    "\n",
    "plt.imshow(mask, origin='lower', cmap='gray', extent=[x.min(), x.max(), y.min(), y.max()])\n",
    "plt.title('Fully composited HabEx B pupil')"
   ]
  }
 ],
 "metadata": {
  "kernelspec": {
   "display_name": "Python 3",
   "language": "python",
   "name": "python3"
  },
  "language_info": {
   "codemirror_mode": {
    "name": "ipython",
    "version": 3
   },
   "file_extension": ".py",
   "mimetype": "text/x-python",
   "name": "python",
   "nbconvert_exporter": "python",
   "pygments_lexer": "ipython3",
   "version": "3.7.9"
  }
 },
 "nbformat": 4,
 "nbformat_minor": 5
}
