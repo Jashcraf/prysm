{
 "cells": [
  {
   "cell_type": "markdown",
   "id": "5eed29c3",
   "metadata": {},
   "source": [
    "## Raytracing Off-Axis Parabola Trains\n",
    "\n",
    "In this tutorial, we will show how to draw a system made of off-axis parabola relays.  These are an area in which prysm is substantially different to lens design programs.\n",
    "\n",
    "We begin, as in the [fundamental tutorial](./Raytracing-Fundamentals.ipynb), with a bunch of imports"
   ]
  },
  {
   "cell_type": "code",
   "execution_count": null,
   "id": "6599e973",
   "metadata": {},
   "outputs": [],
   "source": [
    "%load_ext autoreload\n",
    "%autoreload 2\n",
    "\n",
    "import numpy as np\n",
    "\n",
    "from prysm.experimental.raytracing.surfaces import Surface\n",
    "from prysm.experimental.raytracing.spencer_and_murty import raytrace\n",
    "from prysm.experimental.raytracing.raygen import generate_collimated_ray_fan\n",
    "from prysm.experimental.raytracing.plotting import plot_rays, plot_optics\n",
    "\n",
    "from matplotlib import pyplot as plt"
   ]
  },
  {
   "cell_type": "markdown",
   "id": "a817b2f1",
   "metadata": {},
   "source": [
    "Before actually laying out a prescription, first we should review some simple truths about an off-axis parabola.  Firstly, OAPs may be defined in several ways; the angle between the gut axis and the axis of rotation of the parent, the off-axis distance, measured to the \"lower\" mechanical edge of the part, the off-axis distance measured to the segment vertex, or the off-axis distanced measured to another datum.\n",
    "\n",
    "prysm uses essentially the third option.  The off-axis distance is a shift of the coordinate system, which if the OAP's mechanical aperture is symmetric, is the mechanical center of the off-axis segment.\n",
    "\n",
    "There is no way to specify an OAP by its off-axis angle.\n",
    "\n",
    "Secondly, any two OAPs which have the same off-axis distance form a stigmatic pair for an input object at infinity.\n",
    "\n",
    "Thirdly, changing the radius of curvature (or parent focal length) of the OAP gives the relay any magnification.\n",
    "\n",
    "With this in mind, we'll lay out a simple unit magnification periscope:"
   ]
  },
  {
   "cell_type": "code",
   "execution_count": null,
   "id": "71adccf7",
   "metadata": {},
   "outputs": [],
   "source": [
    "mirror_semidiameter=25\n",
    "c=-0.002\n",
    "parent_focal_length = 1/c/2\n",
    "dy=35\n",
    "k=-1\n",
    "pres = [\n",
    "    Surface.off_axis_conic(c, k, 'refl', -parent_focal_length, dy=dy),\n",
    "    Surface.off_axis_conic(-c, k, 'refl', parent_focal_length, dy=dy),\n",
    "    Surface.plane('eval', -parent_focal_length)\n",
    "]\n",
    "\n",
    "P, S = generate_collimated_ray_fan(nrays=8, maxr=mirror_semidiameter, z=parent_focal_length)\n",
    "phist, shist = raytrace(pres, P, S, 0.6328)\n",
    "\n",
    "fig, ax = plt.subplots(figsize=(15,15))\n",
    "fig, ax = plot_rays(phist, fig=fig, ax=ax)\n",
    "ax.axhline(-dy, ls=':', c='#aaa')\n",
    "plot_optics(pres, phist, lw=2, fig=fig, ax=ax)\n",
    "ax.set(aspect='equal')"
   ]
  },
  {
   "cell_type": "markdown",
   "id": "7178949c",
   "metadata": {},
   "source": [
    "Note that this parametric layout is only so trivial because the focus is intentionally plced at the Z-X origin.  For a sequence of relays, simply book-keep where you want the focus between the OAPs to be and the same triviality is maintained.\n",
    "\n",
    "The sign of dy is the same for each because the sign of the curvatures is opposite.  If we adjust the curvature of either OAP, we can make a beam compressor (or expander):"
   ]
  },
  {
   "cell_type": "code",
   "execution_count": null,
   "id": "5d0b5363",
   "metadata": {},
   "outputs": [],
   "source": [
    "mirror_semidiameter=25\n",
    "c=-0.002\n",
    "parent_focal_length = 1/c/2\n",
    "dy=35\n",
    "k=-1\n",
    "m = 0.2 # magnification\n",
    "pres = [\n",
    "    Surface.off_axis_conic(c, k, 'refl', -parent_focal_length, dy=dy),\n",
    "    Surface.off_axis_conic(-c*m, k, 'refl', parent_focal_length/m, dy=dy),\n",
    "    Surface.plane('eval', -parent_focal_length)\n",
    "]\n",
    "\n",
    "P, S = generate_collimated_ray_fan(nrays=8, maxr=mirror_semidiameter, z=parent_focal_length/m)\n",
    "phist, shist = raytrace(pres, P, S, 0.6328)\n",
    "\n",
    "fig, ax = plt.subplots(figsize=(15,15))\n",
    "fig, ax = plot_rays(phist, fig=fig, ax=ax)\n",
    "ax.axhline(-dy, ls=':', c='#aaa')\n",
    "plot_optics(pres, phist, lw=2, fig=fig, ax=ax)\n",
    "ax.set(aspect='equal')"
   ]
  },
  {
   "cell_type": "markdown",
   "id": "5dad7af8",
   "metadata": {},
   "source": [
    "We'll add a fold and another OAP to the first design.  First, we'll just use the fold mirror and a plane normal to Z to see where the rays go.  Unfortunately, we can't use plot_optics anymore, since it doesn't yet understand tilted surfaces (fear not, the raytracer does)."
   ]
  },
  {
   "cell_type": "code",
   "execution_count": null,
   "id": "dad573a5",
   "metadata": {},
   "outputs": [],
   "source": [
    "mirror_semidiameter=25\n",
    "c=-0.002\n",
    "parent_focal_length = 1/c/2\n",
    "dy=35\n",
    "k=-1\n",
    "pres = [\n",
    "    Surface.off_axis_conic(c, k, 'refl', -parent_focal_length, dy=dy),\n",
    "    Surface.off_axis_conic(-c, k, 'refl', parent_focal_length, dy=dy),\n",
    "    Surface.plane('refl', -parent_focal_length, R=(0,-8,0)),\n",
    "    Surface.plane('refl', parent_focal_length)\n",
    "]\n",
    "\n",
    "P, S = generate_collimated_ray_fan(nrays=8, maxr=mirror_semidiameter, z=parent_focal_length)\n",
    "phist, shist = raytrace(pres, P, S, 0.6328)\n",
    "\n",
    "fig, ax = plt.subplots(figsize=(15,15))\n",
    "fig, ax = plot_rays(phist, fig=fig, ax=ax)\n",
    "ax.axhline(-dy, ls=':', c='#aaa')\n",
    "# plot_optics(pres, phist, lw=2, fig=fig, ax=ax)\n",
    "ax.set(aspect='equal')"
   ]
  },
  {
   "cell_type": "markdown",
   "id": "fec7ec70",
   "metadata": {},
   "source": [
    "Another fold mirror for fun,"
   ]
  },
  {
   "cell_type": "code",
   "execution_count": null,
   "id": "01d63a1a",
   "metadata": {},
   "outputs": [],
   "source": [
    "# ray starting from 0, since OAP1 is centered on X and Y=0, and going in the +Z direction\n",
    "mirror_semidiameter=25\n",
    "c=-0.002\n",
    "parent_focal_length = 1/c/2\n",
    "dy=35\n",
    "k=-1\n",
    "pres2 = [\n",
    "    Surface.off_axis_conic(c, k, 'refl', -parent_focal_length, dy=dy),\n",
    "    Surface.off_axis_conic(-c, k, 'refl', parent_focal_length, dy=dy),\n",
    "    Surface.plane('refl', -parent_focal_length, R=(0,-8,0)),\n",
    "    Surface.plane('refl', parent_focal_length, R=(0,-8,0)),\n",
    "    Surface.plane('eval', -parent_focal_length)\n",
    "]\n",
    "\n",
    "P, S = generate_collimated_ray_fan(nrays=8, maxr=mirror_semidiameter, z=parent_focal_length)\n",
    "phist, shist = raytrace(pres2, P, S, 0.6328)\n",
    "\n",
    "fig, ax = plt.subplots(figsize=(15,15))\n",
    "fig, ax = plot_rays(phist, fig=fig, ax=ax)\n",
    "ax.axhline(-dy, ls=':', c='#aaa')"
   ]
  },
  {
   "cell_type": "markdown",
   "id": "e98e4346",
   "metadata": {},
   "source": [
    "We can place a final OAP, not centered on y=0, which focuses the beam sheared to the input port,"
   ]
  },
  {
   "cell_type": "code",
   "execution_count": null,
   "id": "d24bbca5",
   "metadata": {},
   "outputs": [],
   "source": [
    "# ray starting from 0, since OAP1 is centered on X and Y=0, and going in the +Z direction\n",
    "mirror_semidiameter=25\n",
    "c=-0.002\n",
    "parent_focal_length = 1/c/2\n",
    "dy=35\n",
    "k=-1\n",
    "pres3 = [\n",
    "    Surface.off_axis_conic(c, k, 'refl', -parent_focal_length, dy=dy),\n",
    "    Surface.off_axis_conic(-c, k, 'refl', parent_focal_length, dy=dy),\n",
    "    Surface.plane('refl', -parent_focal_length, R=(0,-8,0)),\n",
    "    Surface.plane('refl', parent_focal_length, R=(0,-8,0)),\n",
    "    Surface.plane('refl', -parent_focal_length),\n",
    "    # give two elements for P = Y, Z\n",
    "    Surface.off_axis_conic(c/2, k, 'refl', [2*dy, -parent_focal_length], dy=-50),\n",
    "    Surface.plane('eval', parent_focal_length)\n",
    "]\n",
    "\n",
    "P, S = generate_collimated_ray_fan(nrays=8, maxr=mirror_semidiameter, z=parent_focal_length)\n",
    "phist, shist = raytrace(pres3, P, S, 0.6328)\n",
    "\n",
    "fig, ax = plt.subplots(figsize=(15,15))\n",
    "fig, ax = plot_rays(phist, fig=fig, ax=ax)\n",
    "ax.axhline(-dy, ls=':', c='#aaa')\n",
    "ax.set(aspect='equal')"
   ]
  },
  {
   "cell_type": "markdown",
   "id": "5852fada",
   "metadata": {},
   "source": [
    "and like so, we have a fairly complicated layout with three OAPs and two fold mirrors.\n",
    "\n",
    "## Wrap-Up\n",
    "\n",
    "To raytrace a series of OAPs, describe them and any fold mirrors in global coordinates.  Keep the properties of OAPs in mind if you are not replicating an existing design.  If you are replicating an existing design, I recommend having the designer export a chief ray trace and the position and direction cosines all the way through, so that you can cross-verify that the prescription you lay out in prysm is equivalent."
   ]
  }
 ],
 "metadata": {
  "kernelspec": {
   "display_name": "Python 3 (ipykernel)",
   "language": "python",
   "name": "python3"
  },
  "language_info": {
   "codemirror_mode": {
    "name": "ipython",
    "version": 3
   },
   "file_extension": ".py",
   "mimetype": "text/x-python",
   "name": "python",
   "nbconvert_exporter": "python",
   "pygments_lexer": "ipython3",
   "version": "3.8.11"
  }
 },
 "nbformat": 4,
 "nbformat_minor": 5
}
