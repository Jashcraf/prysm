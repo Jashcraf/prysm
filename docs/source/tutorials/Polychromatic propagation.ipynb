{
 "cells": [
  {
   "cell_type": "markdown",
   "metadata": {},
   "source": [
    "# Polychromatic Propagation\n",
    "\n",
    "In this tutorial, we will show how to use prysm to model polychromatic propagation.  The user should already be familiar with the [First Diffraction Model](./First-Diffraction-Model.ipynb) tutorial and\n",
    "\n",
    "MTF is defined as the magnitude of the Fourier transform of the Point Spread Function (PSF), normalized by its value at the origin.  Without writing the normalization, that is simply:\n",
    "\n",
    "$$ \\text{MTF}\\left(\\nu_x,\\nu_y\\right) = \\left| \\mathfrak{F}\\left[\\text{PSF}\\left(x,y\\right)\\right] \\right| $$\n",
    "\n",
    "To make this tutorial a bit more interesting, we will use an N-sided aperture, as if our lens were stopped down and has a finite number of aperture blades.  We will also assume no vignetting.  Instead of Hopkins' polynomials as used previously, we will use Zernike polynomials which are orthogonal over the unit disk.  Everything scales with F/#, but we'll assume its 8 and the focal length is 50 mm as reasonable photographic examples.\n",
    "\n",
    "The first step in this model is to form the aperture:"
   ]
  }
 ],
 "metadata": {
  "kernelspec": {
   "display_name": "Python 3",
   "language": "python",
   "name": "python3"
  },
  "language_info": {
   "codemirror_mode": {
    "name": "ipython",
    "version": 3
   },
   "file_extension": ".py",
   "mimetype": "text/x-python",
   "name": "python",
   "nbconvert_exporter": "python",
   "pygments_lexer": "ipython3",
   "version": "3.8.5"
  }
 },
 "nbformat": 4,
 "nbformat_minor": 4
}
