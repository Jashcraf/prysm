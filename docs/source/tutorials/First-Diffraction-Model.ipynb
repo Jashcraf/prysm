{
 "cells": [
  {
   "cell_type": "markdown",
   "metadata": {},
   "source": [
    "# Your First Diffraction Model\n",
    "\n",
    "This tutorial will guide you through construction of your first diffraction model with prysm.  We will model a simple circular aperture with and without spherical aberration, showing the PSF in each case.  In this tutorial you will learn how to:\n",
    "\n",
    "- exercise the basic machinery of prysm to model diffraction\n",
    "- use polynomials to aberrations to the model\n",
    "\n",
    "We will construct what both Born & Wolf and Goodman call the Pupil function:\n",
    "\n",
    "$$ P(\\xi, \\eta) = A(\\xi,\\eta) \\cdot \\exp\\left(i \\tfrac{2\\pi}{\\lambda}  \\phi(\\xi,\\eta) \\right)$$\n",
    "\n",
    "where $A$ is the amplitude function and does double duty as the limiting aperture, and $\\phi$ is the phase function containing the optical path error.\n",
    "\n",
    "We will build $P$ by making $A$ and $\\phi$ and then assembling them.  We will do so for a 10 mm diameter lens with aperture of F/10 (a 100 mm EFL)."
   ]
  },
  {
   "cell_type": "code",
   "execution_count": null,
   "metadata": {},
   "outputs": [],
   "source": [
    "import numpy as np\n",
    "\n",
    "from prysm.coordinates import make_xy_grid, cart_to_polar"
   ]
  },
  {
   "cell_type": "code",
   "execution_count": null,
   "metadata": {},
   "outputs": [],
   "source": [
    "xi, eta = make_xy_grid(256, diameter=10)\n",
    "r, t = cart_to_polar(xi, eta)"
   ]
  },
  {
   "cell_type": "markdown",
   "metadata": {},
   "source": [
    "$\\xi$ and $\\eta$ are the Cartesian variables of the pupil plane, which we compute over a 10 mm area.  256 is the number of samples (\"pixels\").  We now compute $A$:"
   ]
  },
  {
   "cell_type": "code",
   "execution_count": null,
   "metadata": {},
   "outputs": [],
   "source": [
    "from prysm.geometry import circle\n",
    "from matplotlib import pyplot as plt\n",
    "\n",
    "A = circle(5, r)\n",
    "plt.imshow(A)"
   ]
  },
  {
   "cell_type": "markdown",
   "metadata": {},
   "source": [
    "Now we compute spherical aberration, $W040$ in Hopkins' notation:\n",
    "\n",
    "$$\n",
    "\\phi(\\rho,\\theta) = W_{040} \\rho^4 $$\n",
    "\n",
    "using $\\rho = r / 5$, the radius of the pupil."
   ]
  },
  {
   "cell_type": "code",
   "execution_count": null,
   "metadata": {},
   "outputs": [],
   "source": [
    "from prysm.polynomials import hopkins\n",
    "\n",
    "rho = r / 5\n",
    "phi = hopkins(0, 4, 0, rho, t, 1) # 1 = H, field height\n",
    "plt.imshow(phi)"
   ]
  },
  {
   "cell_type": "markdown",
   "metadata": {},
   "source": [
    "This looks wrong, but that's just because you can see outside the unit circle:"
   ]
  },
  {
   "cell_type": "code",
   "execution_count": null,
   "metadata": {},
   "outputs": [],
   "source": [
    "phi2 = phi.copy()\n",
    "phi2[A!=1]=np.nan\n",
    "plt.imshow(phi2)"
   ]
  },
  {
   "cell_type": "markdown",
   "metadata": {},
   "source": [
    "Now we want to assemble $P$.  We first need to decide what the units of $\\phi$ are, and for now we will assume they are nanometers, as good a choice of any.  1 nm of spherical is not interesting, so we will scale it to 500 nm zero-to-peak (the inherent \"scaling\" of Hopkins' polynomials).  See [Ins and Outs of Polynomials](../explanation/In-and-Outs-of-Polynomials.ipynb) for more information on these and others included with prysm.  We'll use the HeNe wavelength, grabbing it from prysm's set of common wavelengths.  It is just a float with units of microns."
   ]
  },
  {
   "cell_type": "code",
   "execution_count": null,
   "metadata": {},
   "outputs": [],
   "source": [
    "from prysm.wavelengths import HeNe\n",
    "from prysm.propagation import Wavefront\n",
    "\n",
    "phi100 = phi * 500\n",
    "\n",
    "dx = xi[0,1]-xi[0,0]\n",
    "\n",
    "# None = no phase error\n",
    "wf = Wavefront.from_amp_and_phase(A, None, HeNe, dx) # wf == P"
   ]
  },
  {
   "cell_type": "markdown",
   "metadata": {},
   "source": [
    "Now we want to calculate the PSF associated with this wavefront.  This calculation happens in two steps, the first is to compute the complex field in the plane of the PSF, and the second to compute the so-called \"intensity PSF\" or \"incoherent PSF\".  We have\n",
    "\n",
    "$$ E(x,y) = \\mathfrak{F} \\left[ P(\\xi,\\eta) \\right] $$\n",
    "\n",
    "with $\\mathfrak{F}$ as the Fourier transform operator, and\n",
    "\n",
    "$$ \\text{PSF}_\\text{inc}(x,y) = \\left|E(x,y)\\right|^2 $$"
   ]
  },
  {
   "cell_type": "code",
   "execution_count": null,
   "metadata": {},
   "outputs": [],
   "source": [
    "E = wf.focus(100)\n",
    "psf = E.intensity\n",
    "fno = 10\n",
    "psf_radius = 1.22*HeNe*fno\n",
    "psf.plot2d(xlim=psf_radius*5, log=True, cmap='gray',\n",
    "           clim=(1e5,3e9), interpolation='bicubic')"
   ]
  },
  {
   "cell_type": "markdown",
   "metadata": {},
   "source": [
    "The x and y ticks have units of microns.  We computed the airy radius and plotted +/- 5 airy radii, which we can see is true in the data.\n",
    "\n",
    "We can compare this unaberrated PSF to one which contains spherical aberration:"
   ]
  },
  {
   "cell_type": "code",
   "execution_count": null,
   "metadata": {},
   "outputs": [],
   "source": [
    "wf = Wavefront.from_amp_and_phase(A, phi100, HeNe, dx) # wf == P\n",
    "E = wf.focus(100)\n",
    "psf = E.intensity\n",
    "psf.plot2d(xlim=psf_radius*5, log=True, cmap='gray',\n",
    "           clim=(1e5,3e9), interpolation='bicubic')"
   ]
  },
  {
   "cell_type": "markdown",
   "metadata": {},
   "source": [
    "We can see that spherical aberration broadens the PSF and reduces the visibility of the airy rings.\n",
    "\n",
    "You may find these PSFs a bit \"chunky.\"  The FFT propagation used can be zero-padded to improve spatial resolution:"
   ]
  },
  {
   "cell_type": "code",
   "execution_count": null,
   "metadata": {},
   "outputs": [],
   "source": [
    "wf = Wavefront.from_amp_and_phase(A, None, HeNe, dx)\n",
    "E = wf.focus(100, Q=8)\n",
    "psf = E.intensity\n",
    "psf.plot2d(xlim=psf_radius*5, log=True, cmap='gray',\n",
    "           clim=(1e5,3e9), interpolation='bicubic')"
   ]
  },
  {
   "cell_type": "markdown",
   "metadata": {},
   "source": [
    "That's it.\n",
    "\n",
    "In summary, to produce a PSF from an aperture with or without wavefront error:\n",
    "\n",
    "- use `prysm.coordinates` or your own code to produce a grid\n",
    "- use `prysm.geometry` to shade the aperture\n",
    "- use `prysm.polynomials` or your own code to create an optical path error map.  No need to zero the OPD outside the aperture.\n",
    "- `use prysm.propagation.Wavefront` to propagate from the pupil (aperture) to the PSF plane.\n",
    "\n",
    "The [Double Slit Experiment](./Double-Slit-Experiment.ipynb) tutorial expands upon these ideas and includes angular spectrum or plane-to-plane propagation."
   ]
  }
 ],
 "metadata": {
  "kernelspec": {
   "display_name": "Python 3 (ipykernel)",
   "language": "python",
   "name": "python3"
  },
  "language_info": {
   "codemirror_mode": {
    "name": "ipython",
    "version": 3
   },
   "file_extension": ".py",
   "mimetype": "text/x-python",
   "name": "python",
   "nbconvert_exporter": "python",
   "pygments_lexer": "ipython3",
   "version": "3.8.12"
  }
 },
 "nbformat": 4,
 "nbformat_minor": 4
}
