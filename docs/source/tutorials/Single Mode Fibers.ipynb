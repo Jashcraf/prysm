{
 "cells": [
  {
   "cell_type": "markdown",
   "id": "e5968a36-0fa5-469b-8309-636acb8bc9b1",
   "metadata": {},
   "source": [
    "## Single-Mode Fibers\n",
    "\n",
    "This tutorial will demonstrate how to model optical fiber using prysm.  We will begin by reverse engineering a commercial fiber in order to model its mode field then show an example of of a multi-mode fiber derived from first principles.  We'll begin with the single mode fiber, a ThorLabs SM400.  The Manufacture provides the following specifications:\n",
    "\n",
    "| Specification            | Value       | Unit |\n",
    "|--------------------------|-------------|------|\n",
    "| Operating Wavelength     | 405 - 532   | nm   |\n",
    "| Mode Field Diameter      | 2.5 - 3.4   | um   |\n",
    "| Core Index at 467 nm     | 1.46435     |      |\n",
    "| Cladding Index at 467 nm | 1.45857     |      |\n",
    "| Numerical Aperture       | 0.12 - 0.14 |      |\n",
    "| Cladding Diameter        | 125         | um   |\n",
    "| Core Diameter            | ?           | um   |\n",
    "\n",
    "The reader is assumed to be familiar with the meaning of these parameters.  The manufacture does not provide the core diameter, which is the first piece of needed information.  The first useful functions from `x/fibers` will allow us to use the provided mode field diameter to bound the V-number of the fiber, which is a normalized frequency that determines how many modes can propagate in the fiber.  A fiber with V < ~2.4048 is single mode."
   ]
  },
  {
   "cell_type": "code",
   "execution_count": null,
   "id": "b6975c8a-2886-4d74-b94a-b9c715274558",
   "metadata": {},
   "outputs": [],
   "source": [
    "import numpy as np\n",
    "\n",
    "from matplotlib import pyplot as plt\n",
    "\n",
    "from prysm.x.fibers import (\n",
    "    numerical_aperture,\n",
    "    V,\n",
    "    marcuse_mfr_from_V,\n",
    "    petermann_mfr_from_V\n",
    ")"
   ]
  },
  {
   "cell_type": "markdown",
   "id": "a05a2a80-8c7b-4614-9632-a6b49a047849",
   "metadata": {},
   "source": [
    "First we'll check that the provided indices really do mean an NA between 0.12 and 0.14:"
   ]
  },
  {
   "cell_type": "code",
   "execution_count": null,
   "id": "0c6c4c55-90c7-479c-93c3-eb5b9987c5f9",
   "metadata": {},
   "outputs": [],
   "source": [
    "ncore = 1.46435\n",
    "nclad = 1.45857\n",
    "wvl = 0.467\n",
    "na = numerical_aperture(ncore, nclad)\n",
    "na"
   ]
  },
  {
   "cell_type": "markdown",
   "id": "cfc12788-0c86-44b3-9bf4-c9360f4248be",
   "metadata": {},
   "source": [
    "The NA ishe NA is 0.13, square in the middle of the provided range.  Because the indices vary with wavelength, so too does the NA.  It is not surprising that for a wavelength in the middle of the specified operating range, the NA lands in the middle of the specified range.  The function V is of the form `def V(radius, NA, wavelength)` and the first argument is not known.  We can work backwards by finding a plausible V-number based on their parameters:"
   ]
  },
  {
   "cell_type": "code",
   "execution_count": null,
   "id": "403759f5-6b4a-4f17-88b1-4599b89642de",
   "metadata": {},
   "outputs": [],
   "source": [
    "v_scan = np.linspace(1, 3, 100)\n",
    "mfr_estimate = petermann_mfr_from_V(v_scan)\n",
    "worse_mfr_estimate = marcuse_mfr_from_V(v_scan)\n",
    "\n",
    "fig, ax = plt.subplots()\n",
    "ax.plot(v_scan, mfr_estimate, zorder=2)\n",
    "ax.plot(v_scan, worse_mfr_estimate, zorder=2)\n",
    "ax.axvline(2.4048, ls='--', c='k', zorder=0)\n",
    "ax.text(2.39, 3, 'Single Mode Cutoff', ha='right', va='center', rotation=90)\n",
    "ax.set(xlabel='V-number', ylabel='(mode field radius)/(core radius)')\n",
    "ax.legend(['Petermann', 'Marcuse'], title='Estimate')"
   ]
  },
  {
   "cell_type": "markdown",
   "id": "ca987e44-a5e6-41fd-8d6a-42ec818815ad",
   "metadata": {},
   "source": [
    "In order for the fiber to be single mode over the full range of specified wavelengths and have that property as manufactured with nonzero tolerances, the V-number needs to be somewhat less than the single mode cutoff.  We'll start with a guess of 2.1 and find the parameters for the (single) mode:"
   ]
  },
  {
   "cell_type": "code",
   "execution_count": null,
   "id": "df798b08-3bdb-4a37-a074-a8b1f1478a35",
   "metadata": {},
   "outputs": [],
   "source": [
    "from prysm.x.fibers import find_all_modes"
   ]
  },
  {
   "cell_type": "code",
   "execution_count": null,
   "id": "9a3a22e7-7d0e-4c58-bd9f-9aba0fff6395",
   "metadata": {},
   "outputs": [],
   "source": [
    "vv = 2.1\n",
    "relative_mfr = petermann_mfr_from_V(vv)\n",
    "spec_mfr = (2.5+3.4)/2/2 # average, assume falls in the middle\n",
    "estimated_core_radius = spec_mfr/relative_mfr\n",
    "modes = find_all_modes(V=vv)\n",
    "print(f'{estimated_core_radius=:.1f}, {modes=}')"
   ]
  },
  {
   "cell_type": "markdown",
   "id": "cb26cf32-3dc1-4fa5-b15a-b9afbde78258",
   "metadata": {},
   "source": [
    "The return value of find_all_modes is a dictionary with keys of azimuthal order and values of lists of b-values or propagation constants (values between 0 and 1) for each mode.  The fiber's core must be about 5 microns in diameter.  With these parameters we can calculate the mode of the fiber:"
   ]
  },
  {
   "cell_type": "code",
   "execution_count": null,
   "id": "07194185-8425-4974-975c-7b87bb0ba764",
   "metadata": {},
   "outputs": [],
   "source": [
    "from prysm import coordinates\n",
    "from prysm.x.fibers import smf_mode_field"
   ]
  },
  {
   "cell_type": "code",
   "execution_count": null,
   "id": "171aa3c6-f5c9-4750-ac09-2050f4784c71",
   "metadata": {},
   "outputs": [],
   "source": [
    "x, y = coordinates.make_xy_grid(256, diameter=5*estimated_core_radius)\n",
    "r, t = coordinates.cart_to_polar(x, y)\n",
    "\n",
    "# modes[0][0] = the 0th order azimuthal mode, first mode (the only mode for a single mode fiber)\n",
    "mode_field_2d = smf_mode_field(vv, estimated_core_radius, modes[0][0], r)\n",
    "\n",
    "fig, ax = plt.subplots()\n",
    "ax.imshow(mode_field_2d, extent=[x.min(), x.max(), y.min(), y.max()], cmap='inferno')\n",
    "circ = plt.Circle((0,0), radius=estimated_core_radius, fill=False, lw=0.5, color='w', ls='--')\n",
    "ax.add_artist(circ)\n",
    "ax.text(-2.8, 2.5, 'Fiber Core', c='w')\n",
    "ax.set(xlabel='X, um', ylabel='Y, um')"
   ]
  },
  {
   "cell_type": "markdown",
   "id": "bda9e4cd-2c19-4faf-a4a6-649fc2043c61",
   "metadata": {},
   "source": [
    "Note that the image is the complex electric field (which is purely real for an idealized single mode fiber), the intensity is the square of this and is what is usually observable.  We can see that the mode is \"weakly confined\", with significant energy in the cladding.  This is entirely determined by Petermann's equation.  By using values provided at other wavelengths, we can further refine our estimate of the core radius."
   ]
  },
  {
   "cell_type": "code",
   "execution_count": null,
   "id": "73844f2a-ed4d-4e48-967b-3380fcca3424",
   "metadata": {},
   "outputs": [],
   "source": [
    "# wvl, ncore, nclad\n",
    "mfg_values = [\n",
    "    (.405, 1.46958, 1.46382),\n",
    "    (.467, 1.46435, 1.45857),\n",
    "    (.532, 1.46071, 1.45491),\n",
    "]\n",
    "nas = []\n",
    "v_numbers = []\n",
    "print('wvl_nm NA      V-number')\n",
    "for (wvl, ncore, nclad) in mfg_values:\n",
    "    wvl_nm = int(wvl*1e3)\n",
    "    na = numerical_aperture(ncore, nclad)\n",
    "    vnum = V(estimated_core_radius, na, wvl)\n",
    "    na_str = str(round(na, 5))\n",
    "    v_str = str(round(vnum, 3))\n",
    "    # <n is f-string fixed width formatting\n",
    "    print(f'{wvl_nm:<6} {na_str:<7} {v_str:<5}')"
   ]
  },
  {
   "cell_type": "markdown",
   "id": "20cbc480-fddc-4df7-b833-394eb4de2e4a",
   "metadata": {},
   "source": [
    "We can see that with our estimated core radius, the fiber is single mode in the mid and long end of its specified band, not not near the lower end.  We can run the calculation again with a reduced mode core radius which will produce just-barely single mode behavior at the short end of the specified bandpass:"
   ]
  },
  {
   "cell_type": "code",
   "execution_count": null,
   "id": "8f753992-843c-452c-97da-1f49a25ea33f",
   "metadata": {},
   "outputs": [],
   "source": [
    "revised_core_radius_guess = 1.15\n",
    "print('wvl_nm NA      V-number')\n",
    "for (wvl, ncore, nclad) in mfg_values:\n",
    "    wvl_nm = int(wvl*1e3)\n",
    "    na = numerical_aperture(ncore, nclad)\n",
    "    vnum = V(revised_core_radius_guess, na, wvl)\n",
    "    na_str = str(round(na, 5))\n",
    "    v_str = str(round(vnum, 3))\n",
    "    # <n is f-string fixed width formatting\n",
    "    print(f'{wvl_nm:<6} {na_str:<7} {v_str:<5}')"
   ]
  },
  {
   "cell_type": "markdown",
   "id": "ad43c2ee-fbce-489e-8a2e-ddfe41d7728d",
   "metadata": {},
   "source": [
    "We can create a psuedocolor image of the mode field in RGB:"
   ]
  },
  {
   "cell_type": "code",
   "execution_count": null,
   "id": "0a0e93a1-511e-4396-b6ee-26c4128913c2",
   "metadata": {},
   "outputs": [],
   "source": [
    "rgb_modes = np.empty((*r.shape, 3), dtype=float)\n",
    "\n",
    "j = 0\n",
    "for (wvl, ncore, nclad) in mfg_values:\n",
    "    na = numerical_aperture(ncore, nclad)\n",
    "    vnum = V(revised_core_radius_guess, na, wvl)\n",
    "    modes = find_all_modes(vnum)\n",
    "    # normalize modes by the core area\n",
    "    mode_field_2d = smf_mode_field(vnum, revised_core_radius_guess, modes[0][0], r) \n",
    "    rgb_modes[:,:,j] = mode_field_2d\n",
    "    j += 1"
   ]
  },
  {
   "cell_type": "code",
   "execution_count": null,
   "id": "4bcbe761-a72d-4859-b3d5-b50129cad147",
   "metadata": {},
   "outputs": [],
   "source": [
    "fig, ax = plt.subplots()\n",
    "ax.imshow(rgb_modes/rgb_modes.max(), extent=[x.min(), x.max(), y.min(), y.max()])\n",
    "ax.set(xlabel='X, um', ylabel='Y, um')"
   ]
  },
  {
   "cell_type": "markdown",
   "id": "5b2fb30f-fe3f-4ab2-b0a5-873b2ddd207d",
   "metadata": {},
   "source": [
    "One can see that over the specified bandwidth, the fiber is largely but not entirely achromatic.  The more red wavelengths have more energy outside of the core.  We can conclude this exercvise by calculating the coupling efficiency of a perfect circular lens into the fiber as a function of wavelength:"
   ]
  },
  {
   "cell_type": "code",
   "execution_count": null,
   "id": "947a3997-23d9-464b-bd07-ac938002bdf6",
   "metadata": {},
   "outputs": [],
   "source": [
    "from prysm.psf import airydisk_efield\n",
    "from prysm.x.fibers import mode_overlap_integral"
   ]
  },
  {
   "cell_type": "code",
   "execution_count": null,
   "id": "a0749c1f-9244-4429-870e-e49825451025",
   "metadata": {},
   "outputs": [],
   "source": [
    "wvls = [.405, .467, .532]\n",
    "# core radius ~ 1.2, need fno x lambda ~ 1.2; fno ~2 for decent coupling\n",
    "fno = 2.\n",
    "\n",
    "overlaps = []\n",
    "for j, wvl in enumerate(wvls):\n",
    "    fiber_mode = rgb_modes[...,j]\n",
    "    airydisk = airydisk_efield(r, fno, wvl)\n",
    "    airydisk /= airydisk.sum()\n",
    "    eta = mode_overlap_integral(fiber_mode, airydisk)\n",
    "    overlaps.append(eta)"
   ]
  },
  {
   "cell_type": "code",
   "execution_count": null,
   "id": "7455db62-1723-4fd1-b06a-38ee3ba81f00",
   "metadata": {},
   "outputs": [],
   "source": [
    "fig, ax = plt.subplots()\n",
    "\n",
    "total_fiber_energy = rgb_modes.sum(axis=(0,1))\n",
    "\n",
    "ax.plot(wvls, overlaps)\n",
    "ax.plot(wvls, total_fiber_energy/40_000)\n",
    "ax.legend(['Coupling Efficiency', 'Scaled area under fiber mode'])"
   ]
  },
  {
   "cell_type": "markdown",
   "id": "710b7493-2f62-48c7-8e22-a10481693f81",
   "metadata": {},
   "source": [
    "From the larger slope of the coupling efficiency curve, the fiber is somewhat achromatic but the chromaticity of diffraction means that coupling efficiency for a perfect lens is even more chromatic than the fiber.  However, from the efficiency of ~45%, this is a significantly suboptimal F-number.  We can repeat the calculation near a set of more optimal ones:"
   ]
  },
  {
   "cell_type": "code",
   "execution_count": null,
   "id": "383a0a25-30b0-4214-9082-c130a4693b42",
   "metadata": {},
   "outputs": [],
   "source": [
    "wvls = [.405, .467, .532]\n",
    "# core radius ~ 1.2, need fno x lambda ~ 1.2; fno ~2 for decent coupling\n",
    "fnos = [3.5, 4, 4.5]\n",
    "\n",
    "overlaps = []\n",
    "for j, wvl in enumerate(wvls):\n",
    "    fiber_mode = rgb_modes[...,j]\n",
    "    tmp = []\n",
    "    for fno in fnos:\n",
    "        airydisk = airydisk_efield(r, fno, wvl)\n",
    "        airydisk /= airydisk.sum()\n",
    "        eta = mode_overlap_integral(fiber_mode, airydisk)\n",
    "        tmp.append(eta)\n",
    "        \n",
    "    overlaps.append(tmp)\n",
    "\n",
    "fig, ax = plt.subplots()\n",
    "\n",
    "ax.plot(wvls, overlaps)\n",
    "# ax.plot(wvls, total_fiber_energy/40_000)\n",
    "ax.legend(fnos, title='F#')\n",
    "ax.set(xlabel='Wavelength, um', ylabel='Coupling efficiency eta')"
   ]
  },
  {
   "cell_type": "markdown",
   "id": "35a06d73-3ffa-4f8b-a75b-75a02676c7fe",
   "metadata": {},
   "source": [
    "For near optimal coupling efficiencies the system is considerably more achromatic.  And that the F-number is large enough that the airy disk's first ring is significantly outside the core.  This is again because the fiber mode has significant power outside the core."
   ]
  },
  {
   "cell_type": "markdown",
   "id": "d67d7ba4-22f6-482f-bc98-711b18515f94",
   "metadata": {},
   "source": [
    "## Wrap-Up\n",
    "\n",
    "In this tutorial, we looked at modeling single mode fibers.  We started by reverse engineering missing parametric information from a vendor about their fiber, arriving at a plausible estimate for the core diameter.  We then computed the mode field over a range of wavelengths as well as the coupling efficiency of a perfect circular lens into the fiber."
   ]
  }
 ],
 "metadata": {
  "kernelspec": {
   "display_name": "Python 3 (ipykernel)",
   "language": "python",
   "name": "python3"
  },
  "language_info": {
   "codemirror_mode": {
    "name": "ipython",
    "version": 3
   },
   "file_extension": ".py",
   "mimetype": "text/x-python",
   "name": "python",
   "nbconvert_exporter": "python",
   "pygments_lexer": "ipython3",
   "version": "3.11.5"
  }
 },
 "nbformat": 4,
 "nbformat_minor": 5
}
