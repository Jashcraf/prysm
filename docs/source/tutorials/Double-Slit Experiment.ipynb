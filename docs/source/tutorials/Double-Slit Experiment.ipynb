{
 "cells": [
  {
   "cell_type": "markdown",
   "metadata": {},
   "source": [
    "# The Double-Slit Experiment\n",
    "\n",
    "This tutorial will guide you through a digital version of the double-slit experiment.  It expands upon the basic machinery of the [First Diffraction Model](./First-Diffraction-Model.ipynb) tutorial to include intermediate planes with free space propagation.  We will also show the far-field.  In this tutorial, you will learn how to:\n",
    "\n",
    "- Composite multiple geometries to produce an aperture\n",
    "- use prysm's machinery to compute diffraction patterns at an arbitrary distance\n",
    "- use prysm's data slicing tools to extract a slice through the x axis\n",
    "\n",
    "The double slit experiment predicts that the diffraction pattern of a pair of slits has maxima when\n",
    "\n",
    "$$ y = \\frac{m\\lambda D}{d} $$\n",
    "\n",
    "where $D$ is the distance of the screen and $d$ is the slit separation, and $\\lambda$ is the wavelength of light.\n",
    "\n",
    "We'll pick parameters somewhat arbitrarily and say that $a$, the slit diameter, is 20 $\\mu m$ and the slit separation is 0.2 mm.\n",
    "\n",
    "As before, the first step is to build a grid.  Previously we cared about the diameter, but now we want decent sampling across the slits, so we'll control the sample spacing instead."
   ]
  },
  {
   "cell_type": "code",
   "execution_count": null,
   "metadata": {},
   "outputs": [],
   "source": [
    "from prysm.coordinates import make_xy_grid\n",
    "from prysm.geometry import rectangle\n",
    "\n",
    "samp_per_slitD = 6\n",
    "a = .02\n",
    "d = .2\n",
    "dx = a / samp_per_slitD\n",
    "\n",
    "x, y = make_xy_grid(1024, dx=dx)"
   ]
  },
  {
   "cell_type": "markdown",
   "metadata": {},
   "source": [
    "Since we want two slits separated by $d$, we can produce each one easily by shifting the coordinates by $d/2$ in each direction and making a slit:"
   ]
  },
  {
   "cell_type": "code",
   "execution_count": null,
   "metadata": {},
   "outputs": [],
   "source": [
    "from matplotlib import pyplot as plt\n",
    "\n",
    "xleft = x - d/2\n",
    "xright = x + d/2\n",
    "\n",
    "slit_left = rectangle(width=a, height=10, x=xleft, y=y)\n",
    "slit_right = rectangle(width=a, height=10, x=xright, y=y)\n",
    "aperture = slit_left | slit_right\n",
    "\n",
    "plt.imshow(aperture)"
   ]
  },
  {
   "cell_type": "code",
   "execution_count": null,
   "metadata": {},
   "outputs": [],
   "source": [
    "y.max()"
   ]
  },
  {
   "cell_type": "markdown",
   "metadata": {},
   "source": [
    "As in the first tutorial, we will now package this data into a wavefront.  We can use the Wavefront constructor directly, since we are not trying to combine amplitude and phase information."
   ]
  },
  {
   "cell_type": "code",
   "execution_count": null,
   "metadata": {},
   "outputs": [],
   "source": [
    "from prysm.propagation import Wavefront\n",
    "from prysm.wavelengths import HeNe\n",
    "\n",
    "wf = Wavefront(aperture, HeNe, dx)"
   ]
  },
  {
   "cell_type": "markdown",
   "metadata": {},
   "source": [
    "As a spot check, let's verify the far-field where the separation should be:\n",
    "\n",
    "$$ s = \\frac{\\lambda}{d} = \\frac{.6328}{200} = 3.164 \\text{mrad} $$\n",
    "\n",
    "prysm always works in spatial units, so we will recall that the relation between pupil and PSF plane samplings is:\n",
    "\n",
    "$$ x = \\frac{f \\lambda }{N dx} $$\n",
    "\n",
    "where $N$ is the number of samples.  So we will just use a dummy variable for f that makes it drop out.  Prysm does a change from mm to $\\mu m$ to keep a sense of natural scaling, so the units of the far-field with $f=1$ are mrad."
   ]
  },
  {
   "cell_type": "code",
   "execution_count": null,
   "metadata": {},
   "outputs": [],
   "source": [
    "expectation = 3.164\n",
    "farfield = wf.focus(1) # f=1\n",
    "\n",
    "plt.style.use('bmh')\n",
    "fig, ax = farfield.intensity.slices().plot('x', xlim=(expectation*5))\n",
    "ax.axvline(expectation, ls=':', c='k', zorder=1)\n",
    "ax.axvline(-expectation, ls=':', c='k', zorder=1)"
   ]
  },
  {
   "cell_type": "markdown",
   "metadata": {},
   "source": [
    "The first zero in the envelope is where we predict, so our model is working properly.\n",
    "\n",
    "Now we can look at a screen at a finite distance, which we will choose arbitrarily as 75 mm.  prysm does not do any unit changes here, so our spatial axis has units of mm and we expect maxima at:\n",
    "\n",
    "$$ y = \\frac{m\\lambda D}{d} = \\frac{m \\cdot .6328 \\cdot 75}{0.2} $$"
   ]
  },
  {
   "cell_type": "code",
   "execution_count": null,
   "metadata": {},
   "outputs": [],
   "source": [
    "l = .6328e-3\n",
    "D = 75\n",
    "maxima = l*D/d\n",
    "finite_dist = wf.free_space(D)\n",
    "finite_dist.intensity.plot2d()\n",
    "plt.grid(False)"
   ]
  },
  {
   "cell_type": "code",
   "execution_count": null,
   "metadata": {},
   "outputs": [],
   "source": [
    "fig, ax = finite_dist.intensity.slices().plot(['x'])\n",
    "ax.axvline(maxima, ls=':', c='k', zorder=1)\n",
    "ax.axvline(-maxima, ls=':', c='k', zorder=1)"
   ]
  },
  {
   "cell_type": "markdown",
   "metadata": {},
   "source": [
    "We can see the maxima of the diffraction pattern properly located.\n",
    "\n",
    "In summary, we used the tools we already learned about in the first tutorial to set up the basics of the problem.  We then created a double slit aperture by compositing two slits, and learned to use the `free_space` method to perform propagation by a finite distance."
   ]
  }
 ],
 "metadata": {
  "kernelspec": {
   "display_name": "Python 3",
   "language": "python",
   "name": "python3"
  },
  "language_info": {
   "codemirror_mode": {
    "name": "ipython",
    "version": 3
   },
   "file_extension": ".py",
   "mimetype": "text/x-python",
   "name": "python",
   "nbconvert_exporter": "python",
   "pygments_lexer": "ipython3",
   "version": "3.8.5"
  }
 },
 "nbformat": 4,
 "nbformat_minor": 4
}
