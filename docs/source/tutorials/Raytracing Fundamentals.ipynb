{
 "cells": [
  {
   "cell_type": "markdown",
   "id": "5c80e35a",
   "metadata": {},
   "source": [
    "## Raytracing Fundamentals\n",
    "\n",
    "In this tutorial, we will show the fundamentals of using prysm to perform sequential raytracing.  At the moment, this capability is in the experimental submodule, which provides no guarantees of testing, documentation, or future compatability.  However, the core is based on the classic Spencer and Murty paper in JOSA 1961, and is known to work correctly under limited tests.\n",
    "\n",
    "Raytracing begins by importing a few pieces of machinery,"
   ]
  },
  {
   "cell_type": "code",
   "execution_count": null,
   "id": "f9f441d0",
   "metadata": {},
   "outputs": [],
   "source": [
    "import numpy as np\n",
    "\n",
    "from prysm.experimental.raytracing.surfaces import Surface\n",
    "from prysm.experimental.raytracing.spencer_and_murty import raytrace\n",
    "from prysm.experimental.raytracing.raygen import generate_collimated_ray_fan\n",
    "from prysm.experimental.raytracing.opt import paraxial_image_solve\n",
    "from prysm.experimental.raytracing.plotting import plot_rays, plot_optics"
   ]
  },
  {
   "cell_type": "markdown",
   "id": "1b87d70a",
   "metadata": {},
   "source": [
    "The first \"unit\" of a rayrace is the prescription, a series of surfaces with what should be a familiar description of their geometry, and a less familiar global position `P` for the local coordinate origin.\n",
    "\n",
    "The local coordinate origin is taken to be in z if only a single number is given, This makes the most common case of coaxial designs more ergonomic.\n",
    "\n",
    "We'll make our prescription a single reflective sphere for now"
   ]
  },
  {
   "cell_type": "code",
   "execution_count": null,
   "id": "598168f7",
   "metadata": {},
   "outputs": [],
   "source": [
    "mirror_semidiameter = 4\n",
    "pres = [\n",
    "    #          curvature reflect|refract position n(wvl), rotation (None=non-tilted)\n",
    "    Surface.sphere(-0.05, 'reflect', P=5, n=None, R=None)\n",
    "]"
   ]
  },
  {
   "cell_type": "markdown",
   "id": "bcfa4914",
   "metadata": {},
   "source": [
    "and use a paraxial image solve to add another planar surface at the focus.  This solve needs to known either the entrance pupil diameter, or the object position and object NA, to work.  We're using a collimated input, so we provide an EPD of 2 mm."
   ]
  },
  {
   "cell_type": "code",
   "execution_count": null,
   "id": "0491269c",
   "metadata": {},
   "outputs": [],
   "source": [
    "P_img = paraxial_image_solve(pres, z=0, epd=2*mirror_semidiameter)\n",
    "pres.append(Surface.plane(P_img, 'eval'))"
   ]
  },
  {
   "cell_type": "markdown",
   "id": "1cc4fa1e",
   "metadata": {},
   "source": [
    "Now we can view a raytrace through the prescription.  The fundamental unit of raytracing is a ray, which is defined as a pair of length 3 vectors,\n",
    "$$\n",
    "\\begin{align}\n",
    "P &= \\langle X,Y,Z \\rangle \\\\\n",
    "S &= \\langle k,l,m \\rangle\n",
    "\\end{align}\n",
    "$$\n",
    "\n",
    "$P$ is the location of the ray, and $S$ its direction cosines.  You can simply give the raytrace function any $P$ and $S$, and it will trace that one ray.  Or, you can provide it an ensemble of $N$ $P$ and $S$ with a pair of arrays of shape `(N,3)`, and it will trace all the rays at once.  To create a fan of rays, we can use one of the handy generation functions,"
   ]
  },
  {
   "cell_type": "code",
   "execution_count": null,
   "id": "11a4aa21",
   "metadata": {},
   "outputs": [],
   "source": [
    "# starting z is not important, since the ray it collimated.\n",
    "# it will only affect the raytrace plots\n",
    "P, S = generate_collimated_ray_fan(nrays=4, maxr=mirror_semidiameter, z=0)\n",
    "np.set_printoptions(precision=2, suppress=True)\n",
    "print(P)"
   ]
  },
  {
   "cell_type": "markdown",
   "id": "45076927",
   "metadata": {},
   "source": [
    "Then we simply trace the rays through the prescription, collecting the history of $P$ and $S$ for each ray through each surface,"
   ]
  },
  {
   "cell_type": "code",
   "execution_count": null,
   "id": "69d72ea0",
   "metadata": {},
   "outputs": [],
   "source": [
    "# a wavelength is needed, though it does not matter\n",
    "# since this is all-reflective\n",
    "phist, shist = raytrace(pres, P, S, 0.6328)\n",
    "fig, ax = plot_rays(phist)\n",
    "plot_optics(pres, phist, fig=fig, ax=ax)"
   ]
  },
  {
   "cell_type": "markdown",
   "id": "cda9f04b",
   "metadata": {},
   "source": [
    "We can trace another field point, one offset by a few degrees in the y axis:"
   ]
  },
  {
   "cell_type": "code",
   "execution_count": null,
   "id": "15d2398f",
   "metadata": {},
   "outputs": [],
   "source": [
    "# 10 degrees clockwise advance in y\n",
    "P2, S2 = generate_collimated_ray_fan(nrays=4, maxr=mirror_semidiameter, z=0, yangle=10)\n",
    "phist2, shist2 = raytrace(pres, P2, S2, 0.6328)\n",
    "\n",
    "fig, ax = plot_rays(phist)\n",
    "plot_rays(phist2, c='b', fig=fig, ax=ax)\n",
    "plot_optics(pres, phist, fig=fig, ax=ax)"
   ]
  },
  {
   "cell_type": "markdown",
   "id": "7301589c",
   "metadata": {},
   "source": [
    "Notice that these rays hit the surface lower on average than the red, on-axis ray bundle.  At the moment, there is nothing in prysm's ray tracing code that knows about aperture stops, and there is no automatic ray-aiming.  \"Manual\" ray-aiming does exist, and will be covered in a more advanced tutorial.  Because no bounding geometry was specified for the surface, `plot_optics` used the extrema of the raytrace as the surface bound.  Since it was given only the trace history for the off-axis bundle, it does not appear to cover some of the on-axis bundle.\n",
    "\n",
    "## Wrap-Up\n",
    "\n",
    "In this tutorial, we showed how to trace rays through a spherical reflecting mirror using prysm.  In it, we showed how to create an optical prescription, use paraxial image solves to locate the image, and plot ray fans from on and off-axis bundles in the same plot.  More advanced tutorials will cover how to construct the prescription for more complex systems and use the raytrace results to perform analysis."
   ]
  },
  {
   "cell_type": "code",
   "execution_count": null,
   "id": "789ac47b",
   "metadata": {},
   "outputs": [],
   "source": []
  }
 ],
 "metadata": {
  "kernelspec": {
   "display_name": "Python 3 (ipykernel)",
   "language": "python",
   "name": "python3"
  },
  "language_info": {
   "codemirror_mode": {
    "name": "ipython",
    "version": 3
   },
   "file_extension": ".py",
   "mimetype": "text/x-python",
   "name": "python",
   "nbconvert_exporter": "python",
   "pygments_lexer": "ipython3",
   "version": "3.8.11"
  }
 },
 "nbformat": 4,
 "nbformat_minor": 5
}
