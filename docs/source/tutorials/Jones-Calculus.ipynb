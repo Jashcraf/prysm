{
 "cells": [
  {
   "cell_type": "markdown",
   "metadata": {},
   "source": [
    "# Intro to Polarization\n",
    "This tutorial will guide you through the basics of Jones calculus, a matrix calculus used for the propagation of polarization through an optical system. Any polarization state can be represented by a simple 2-vector called a Jones vector $\\mathbf{v}$\n",
    "\n",
    "$$\\mathbf{v} = \n",
    "\\begin{pmatrix}\n",
    "E_{x} \\\\\n",
    "E_{y} \\\\\n",
    "\\end{pmatrix}$$\n",
    "\n",
    "The components of $\\mathbf{v}$ are the complex amplitudes that correspond to light oriented or (polarized) in the local horizontal and vertical directions. Horizontally polarized light looks like this:\n",
    "$$\\mathbf{v}_{H} = \n",
    "\\begin{pmatrix}\n",
    "1 \\\\\n",
    "0 \\\\\n",
    "\\end{pmatrix}.$$\n",
    "\n",
    "Whereas vertically polarized light looks like this:\n",
    "$$\\mathbf{v}_{V} = \n",
    "\\begin{pmatrix}\n",
    "0 \\\\\n",
    "1 \\\\\n",
    "\\end{pmatrix}.$$\n",
    "\n",
    "In `prysm.x.polarization`, you can create these vectors using `linear_pol_vector`"
   ]
  },
  {
   "cell_type": "code",
   "execution_count": 1,
   "metadata": {},
   "outputs": [
    {
     "name": "stdout",
     "output_type": "stream",
     "text": [
      "Horizontal Polarization =  [1.+0.j 0.+0.j]\n",
      "Vertical Polarization   =  [6.123234e-17+0.j 1.000000e+00+0.j]\n"
     ]
    }
   ],
   "source": [
    "from prysm.x.polarization import linear_pol_vector\n",
    "import numpy as np\n",
    "hpol = linear_pol_vector(0)\n",
    "vpol = linear_pol_vector(90)\n",
    "\n",
    "\n",
    "\n",
    "print('Horizontal Polarization = ',hpol)\n",
    "print('Vertical Polarization   = ',vpol)"
   ]
  },
  {
   "cell_type": "markdown",
   "metadata": {},
   "source": [
    "We can also invoke the complex dimension of polarization to describe a phase delay between the horizontal and linear polarization states. A quarter-wave phase delay is $\\delta\\phi = 2\\pi/4 $ or $\\pi/2$. If we add this phase delay to the $E_{y}$ component, the resultant Jones vector looks like this:\n",
    "$$\\mathbf{v}_{L} = \n",
    "\\frac{1}{\\sqrt{2}}\n",
    "\\begin{pmatrix}\n",
    "1 \\\\\n",
    "e^{i\\pi/2} \\\\\n",
    "\\end{pmatrix}.$$\n",
    "\n",
    "Where the factor of $1/\\sqrt{2}$ is there to normalize the Jones vector. This kind of polarization is called \"Circular\" polarization. Light can be circularly polarized in the left- or right-handed direction. Both are available via the `circular_pol_vector` mehtod. The only difference is the sign of the imaginary part of the polarization state."
   ]
  },
  {
   "cell_type": "code",
   "execution_count": 2,
   "metadata": {},
   "outputs": [
    {
     "name": "stdout",
     "output_type": "stream",
     "text": [
      "Left-hand Circular Polarization =  [0.70710678+0.j         0.        +0.70710678j]\n",
      "Right-hand Circular Polarization =  [ 0.70710678+0.j         -0.        -0.70710678j]\n"
     ]
    }
   ],
   "source": [
    "from prysm.x.polarization import circular_pol_vector\n",
    "\n",
    "lpol = circular_pol_vector(handedness='left')\n",
    "rpol = circular_pol_vector(handedness='right')\n",
    "print('Left-hand Circular Polarization = ',lpol)\n",
    "print('Right-hand Circular Polarization = ',rpol)"
   ]
  },
  {
   "cell_type": "markdown",
   "metadata": {},
   "source": [
    "Now that we are equipped with the calculus to understand the polarization state of a given beam of light, we need to know how to operate on it. It follows from our use of 2-vectors that the corresponding operator is a 2x2 matrix. We refer to these as Jones matrices, and they take the form of $\\mathbf{J}$\n",
    "\n",
    "$$\n",
    "\\mathbf{J} =\n",
    "\\begin{pmatrix}\n",
    "J_{xx} & J_{xy} \\\\\n",
    "J_{yx} & J_{yy} \\\\\n",
    "\\end{pmatrix}\n",
    "$$\n",
    "\n",
    "The on-diagonals of this matrix tell us how our polarization states propagate through our system. The off-diagonals of this matrix tell us how the polarization states rotate into eachother. We can model a horizontal polarizer with `linear_polarizer`."
   ]
  },
  {
   "cell_type": "code",
   "execution_count": 3,
   "metadata": {},
   "outputs": [
    {
     "name": "stdout",
     "output_type": "stream",
     "text": [
      "[[1.+0.j 0.+0.j]\n",
      " [0.+0.j 0.+0.j]]\n"
     ]
    }
   ],
   "source": [
    "from prysm.x.polarization import linear_polarizer\n",
    "\n",
    "h_polarizer = linear_polarizer()\n",
    "print(h_polarizer)"
   ]
  },
  {
   "cell_type": "markdown",
   "metadata": {},
   "source": [
    "This device only allows horizontally-polarized light through the system. We can understand the throughput of the above polarizations by mutiplying the vectors by the matrix."
   ]
  },
  {
   "cell_type": "code",
   "execution_count": 4,
   "metadata": {},
   "outputs": [
    {
     "name": "stdout",
     "output_type": "stream",
     "text": [
      "Total Power of H-pol after polarizer =  1.0\n",
      "Total Power of V-pol after polarizer =  3.749399456654644e-33\n",
      "Total Power of L-pol after polarizer =  0.4999999999999999\n",
      "Total Power of R-pol after polarizer =  0.4999999999999999\n"
     ]
    }
   ],
   "source": [
    "import numpy as np\n",
    "polarizations = [hpol,vpol,lpol,rpol]\n",
    "prefix = ['H','V','L','R']\n",
    "\n",
    "compute_power = lambda pol: np.abs(np.dot(pol,pol.conj()))\n",
    "\n",
    "for pol,pre in zip(polarizations,prefix):\n",
    "    pol_out = h_polarizer @ pol\n",
    "    print(f'Total Power of {pre}-pol after polarizer = ',compute_power(pol_out))"
   ]
  },
  {
   "cell_type": "markdown",
   "metadata": {},
   "source": [
    "This is about what we would expect from a linear polarizer subject to these polarization states. We can perform a simmilar experiment for a half wave plate to show how it rotates the polarization state. Let us just consider the linear polarization states."
   ]
  },
  {
   "cell_type": "code",
   "execution_count": 10,
   "metadata": {},
   "outputs": [
    {
     "name": "stdout",
     "output_type": "stream",
     "text": [
      "polarization in = [1.+0.j 0.+0.j]\n",
      "polarization out = [2.22044605e-16+6.123234e-17j 1.00000000e+00-6.123234e-17j]\n",
      "polarization in = [6.123234e-17+0.j 1.000000e+00+0.j]\n",
      "polarization out = [ 1.00000000e+00-6.123234e-17j -1.60812265e-16+6.123234e-17j]\n"
     ]
    }
   ],
   "source": [
    "from prysm.x.polarization import half_wave_plate\n",
    "\n",
    "hwp = half_wave_plate(np.radians(45)) # rotated HWP at 22.5 deg\n",
    "linear_pols = polarizations[:2]\n",
    "\n",
    "for pol,pre in zip(linear_pols,prefix[:2]):\n",
    "    pol_out = hwp @ pol\n",
    "    print(f'polarization in = {pol}')\n",
    "    print(f'polarization out = {pol_out}')"
   ]
  },
  {
   "cell_type": "markdown",
   "metadata": {},
   "source": [
    "These data tell us that a HWP oriented at 45 degrees w.r.t. the horizontal will cause x-polarization to flip into y-polarization, which is exactly what we expect from these polarization states. This concludes the brief introduction on using jones calculus in prysm. For more general use, x.polarization supports arbitrary linear diattenuators and retarders through the following methods:\n",
    "- linear_retarder\n",
    "- linear_diattenuator\n",
    "\n",
    "Future demos will illustrate how to use these elements to operate on wavefronts for integrated modeling of physical optics and polarization, as well as an introduction to Mueller calculus."
   ]
  }
 ],
 "metadata": {
  "kernelspec": {
   "display_name": "debug-films",
   "language": "python",
   "name": "python3"
  },
  "language_info": {
   "codemirror_mode": {
    "name": "ipython",
    "version": 3
   },
   "file_extension": ".py",
   "mimetype": "text/x-python",
   "name": "python",
   "nbconvert_exporter": "python",
   "pygments_lexer": "ipython3",
   "version": "3.11.4"
  },
  "orig_nbformat": 4
 },
 "nbformat": 4,
 "nbformat_minor": 2
}
