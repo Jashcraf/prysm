{
 "cells": [
  {
   "cell_type": "markdown",
   "metadata": {},
   "source": [
    "# Lens MTF Model\n",
    "\n",
    "In this tutorial, we will show how to use prysm to model the MTF of a lens based on a polynomial model of its aberrations.  We will utilize the concepts from the [First Diffraction Model](./First-Diffraction-Model.ipynb) tutorial in constructing the forward model.\n",
    "\n",
    "MTF is defined as the magnitude of the Fourier transform of the Point Spread Function (PSF), normalized by its value at the origin.  Without writing the normalization, that is simply:\n",
    "\n",
    "$$ \\text{MTF}\\left(\\nu_x,\\nu_y\\right) = \\left| \\mathfrak{F}\\left[\\text{PSF}\\left(x,y\\right)\\right] \\right| $$\n",
    "\n",
    "To make this tutorial a bit more interesting, we will use an N-sided aperture, as if our lens were stopped down and has a finite number of aperture blades.  We will also assume no vignetting.  Instead of Hopkins' polynomials as used previously, we will use Zernike polynomials which are orthogonal over the unit disk.  Everything scales with F/#, but we'll assume its 8 and the focal length is 50 mm as reasonable photographic examples."
   ]
  },
  {
   "cell_type": "code",
   "execution_count": null,
   "metadata": {},
   "outputs": [],
   "source": [
    "%load_ext autoreload\n",
    "%autoreload 2\n",
    "\n",
    "from prysm.coordinates import make_xy_grid, cart_to_polar\n",
    "from prysm.geometry import regular_polygon\n",
    "\n",
    "from prysm.polynomials import zernike_nm\n",
    "\n",
    "from matplotlib import pyplot as plt"
   ]
  },
  {
   "cell_type": "code",
   "execution_count": null,
   "metadata": {},
   "outputs": [],
   "source": [
    "efl = 50\n",
    "fno = 8\n",
    "\n",
    "x, y = make_xy_grid(256, diameter=efl/fno)\n",
    "dx = x[0,1]-x[0,0]\n",
    "r, t = cart_to_polar(x, y)\n",
    "radius = efl/fno/2\n",
    "rho = r / radius\n",
    "\n",
    "aperture = regular_polygon(7, radius, x, y)\n",
    "\n",
    "plt.imshow(aperture, origin='lower')"
   ]
  },
  {
   "cell_type": "markdown",
   "metadata": {},
   "source": [
    "We will assume for the moment that the illumination is monochromatic, as a separate tutorial deals with polychromatic propagation.  We will also assume the correction of the lens is so-so at its maximum aperture of F/1.4, and decide somewhat arbitrarily that it improves by 20% for each stop the F/# is reduced.  F/1.4 to F/8 is 5 stops, so we have 1.2^5 reduction in wavefront error.  There is no physical basis for these assumptions, but they are being made by the user, not the library."
   ]
  },
  {
   "cell_type": "code",
   "execution_count": null,
   "metadata": {},
   "outputs": [],
   "source": [
    "from prysm.propagation import Wavefront\n",
    "wvl = 0.55 # mid visible band, um\n",
    "\n",
    "full_aperture_opd = wvl*0.75*1e3 # nm, 3/4 of a wave, 1e3 = um to nm\n",
    "reduced_opd = full_aperture_opd / (1.5**5)\n",
    "mode = zernike_nm(4, 0, rho, t)\n",
    "opd = mode * reduced_opd\n",
    "pup = Wavefront.from_amp_and_phase(aperture, opd, wvl, dx)\n",
    "coherent_psf = pup.focus(efl, Q=2)"
   ]
  },
  {
   "cell_type": "markdown",
   "metadata": {},
   "source": [
    "At this point, we are in posession of the coherent PSF, which we will recall can be converted to the incoherent PSF with the `.intensity` computed property.  From there, we simply use the `mtf_from_psf` function to compute the MTF."
   ]
  },
  {
   "cell_type": "code",
   "execution_count": null,
   "metadata": {},
   "outputs": [],
   "source": [
    "from prysm.otf import mtf_from_psf, diffraction_limited_mtf\n",
    "psf = coherent_psf.intensity\n",
    "mtf = mtf_from_psf(psf, psf.dx)"
   ]
  },
  {
   "cell_type": "markdown",
   "metadata": {},
   "source": [
    "This is the diffraction limited MTF for a circular aperture, but it's close enough for the septagon example.\n",
    "\n",
    "We can start by plotting the X and Y slices of the MTF.  If we are on axis, or aligned to a cartesian axis of the image plane, these are the tangential and sagittal MTFs."
   ]
  },
  {
   "cell_type": "code",
   "execution_count": null,
   "metadata": {},
   "outputs": [],
   "source": [
    "fig, ax = mtf.slices().plot(['x', 'y', 'azavg'], xlim=(0,200))\n",
    "\n",
    "ax.plot(fx, difflim, ls=':', c='k', alpha=0.75, zorder=1)\n",
    "ax.set(xlabel='Spatial frequency, cy/mm', ylabel='MTF')"
   ]
  },
  {
   "cell_type": "markdown",
   "metadata": {},
   "source": [
    "We can see the lens would be far from diffraction limited for a broad range of frequencies, and that the x and y MTFs are identical.  The latter follows from spherical aberration, $Z_4^0$ being rotationally invariant.  What if the lens had an equivalent amount of coma?"
   ]
  },
  {
   "cell_type": "code",
   "execution_count": null,
   "metadata": {},
   "outputs": [],
   "source": [
    "reduced_opd = full_aperture_opd / (1.5**5)\n",
    "mode = zernike_nm(3, 1, rho, t)\n",
    "opd = mode * reduced_opd\n",
    "pup = Wavefront.from_amp_and_phase(aperture, opd, wvl, dx)\n",
    "coherent_psf = pup.focus(efl, Q=2)\n",
    "psf = coherent_psf.intensity\n",
    "mtf = mtf_from_psf(psf, psf.dx)\n",
    "\n",
    "fig, ax = mtf.slices().plot(['x', 'y', 'azavg'], xlim=(0,200))\n",
    "\n",
    "ax.plot(fx, difflim, ls=':', c='k', alpha=0.75, zorder=1)\n",
    "ax.set(xlabel='Spatial frequency, cy/mm', ylabel='MTF')"
   ]
  },
  {
   "cell_type": "markdown",
   "metadata": {},
   "source": [
    "The MTF would be a bit higher, but it no longer would rotationally invariant."
   ]
  },
  {
   "cell_type": "markdown",
   "metadata": {},
   "source": [
    "If you were interested in the phase transfer function or the OTF itself, the functions are `ptf_from_psf` and `otf_from_psf`, and they work the same way.\n",
    "\n",
    "In summary, to model the MTF of a system:\n",
    "\n",
    "- create a model of the pupil\n",
    "\n",
    "- create a model of the OPD within the pupil\n",
    "\n",
    "- propagate the pupil to a PSF plane and take its intensity (for incoherent systems)\n",
    "\n",
    "- use `mtf_from_psf` to compute the MTF"
   ]
  }
 ],
 "metadata": {
  "kernelspec": {
   "display_name": "Python 3",
   "language": "python",
   "name": "python3"
  },
  "language_info": {
   "codemirror_mode": {
    "name": "ipython",
    "version": 3
   },
   "file_extension": ".py",
   "mimetype": "text/x-python",
   "name": "python",
   "nbconvert_exporter": "python",
   "pygments_lexer": "ipython3",
   "version": "3.8.5"
  }
 },
 "nbformat": 4,
 "nbformat_minor": 4
}
