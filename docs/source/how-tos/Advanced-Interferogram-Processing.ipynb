{
 "cells": [
  {
   "cell_type": "markdown",
   "metadata": {},
   "source": [
    "## Advanced Interferogram Processing\n",
    "\n",
    "Here we will go over some of the more advanced interferometer data processing methods available in prysm.  Many unrelated techniques will be covered here.  A \"master interferogram\" is going to be the starting point for each process.  This also demonstrates how you can create checkpoints in your own processing routines, if you wish.\n",
    "\n",
    "As always, we begin with a few imports.\n"
   ]
  },
  {
   "cell_type": "code",
   "execution_count": null,
   "metadata": {},
   "outputs": [],
   "source": [
    "import numpy as np\n",
    "\n",
    "from prysm.interferogram import Interferogram\n",
    "from prysm.sample_data import sample_files\n",
    "from prysm.geometry import circle"
   ]
  },
  {
   "cell_type": "markdown",
   "metadata": {},
   "source": [
    "Now we're going to make the master dataset,"
   ]
  },
  {
   "cell_type": "code",
   "execution_count": null,
   "metadata": {},
   "outputs": [],
   "source": [
    "path = sample_files('dat')\n",
    "master = Interferogram.from_zygo_dat(path)\n",
    "master.recenter()\n",
    "master.mask(circle(20, master.r))\n",
    "master.crop()\n",
    "master.remove_piston()\n",
    "master.remove_tiptilt()\n",
    "master.plot2d()"
   ]
  },
  {
   "cell_type": "markdown",
   "metadata": {},
   "source": [
    "Two things should be noted here:\n",
    "\n",
    "- The area outside the clear aperture is filled with NaN values\n",
    "\n",
    "- There is a region with data dropout within the clear aperture\n",
    "\n",
    "For reference, the PVr and RMS in units of nanometer are:"
   ]
  },
  {
   "cell_type": "code",
   "execution_count": null,
   "metadata": {},
   "outputs": [],
   "source": [
    "master.pvr(), master.rms"
   ]
  },
  {
   "cell_type": "markdown",
   "metadata": {},
   "source": [
    "PVr is a method because the user may wish to control the normalization radius used in the Zernike fit that is part of the definition of PVr.  Before continuing, let's look at all the things we can do with our interferogram:"
   ]
  },
  {
   "cell_type": "code",
   "execution_count": null,
   "metadata": {},
   "outputs": [],
   "source": [
    "[s for s in dir(master) if not s.startswith('_')]"
   ]
  },
  {
   "cell_type": "markdown",
   "metadata": {},
   "source": [
    "Some of these things (`x,y,r,t`) represent the coordinate grid.  Some others (`Sa`, `pv`, `PVr`, `rms`, `strehl`, `std`, `dropout_percentage`, `total_integrated_scatter`) are statistical descriptions of the data.  The low-order removal methods were already discussed.  We have one alternative visualization method:"
   ]
  },
  {
   "cell_type": "code",
   "execution_count": null,
   "metadata": {},
   "outputs": [],
   "source": [
    "master.interferogram(tilt_waves=(1,1))"
   ]
  },
  {
   "cell_type": "markdown",
   "metadata": {},
   "source": [
    "Some like to view these synthetic interferograms.  The method allows the visibility, number of passes, and any extra tilt fringes to be controlled."
   ]
  },
  {
   "cell_type": "markdown",
   "metadata": {},
   "source": [
    "The first thing you may want to do is evaluate the bandlimited RMS value of the data.  We can do so by first filling our NaNs with zero and then using the method.  Here we'll look in the 1 to 10 mm spatial period bandpass.  Equivalent arguments are provided for frequencies, instead of periods."
   ]
  },
  {
   "cell_type": "code",
   "execution_count": null,
   "metadata": {},
   "outputs": [],
   "source": [
    "scratch = master.copy()\n",
    "scratch.fill()\n",
    "scratch.bandlimited_rms(1, 10)"
   ]
  },
  {
   "cell_type": "markdown",
   "metadata": {},
   "source": [
    "This value is in nanometers, and is roughly half the total RMS of our part.  We can filter the data to the asme spatial period range and see that we get a similar answer:"
   ]
  },
  {
   "cell_type": "code",
   "execution_count": null,
   "metadata": {},
   "outputs": [],
   "source": [
    "# filter only takes frequencies\n",
    "scratch.filter((1/10, 1), typ='bandpass')\n",
    "mask = np.isfinite(master.data)\n",
    "scratch.mask(mask)\n",
    "scratch.plot2d()\n",
    "scratch.rms"
   ]
  },
  {
   "cell_type": "markdown",
   "metadata": {},
   "source": [
    "The value we get by this computation is a bit lower than the value we got with the bandlimited RMS function (about 15% lower).  The reason for this is because spectral methods have finite out-of-band rejection.  While prysm has significantly higher out of band rejection than the software sold with interferometers (> 60 dB higher), it is still finite, especially when the critical frequencies are near the lower or upper sampling limits of the data.  We can view the PSD before and after filtering to see things more clearly:"
   ]
  },
  {
   "cell_type": "code",
   "execution_count": null,
   "metadata": {},
   "outputs": [],
   "source": [
    "scratch2 = master.copy()\n",
    "scratch2.fill()\n",
    "psd_no_filter = scratch2.psd()\n",
    "\n",
    "fig, ax = psd_no_filter.slices().plot('azavg')\n",
    "scratch.fill()\n",
    "psd_filter = scratch.psd()\n",
    "psd_filter.slices().plot('azavg', fig=fig, ax=ax)\n",
    "ax.set(xlabel='Spatial frequency, cy/mm', ylabel='PSD, nm^2/(cy/mm)^2', yscale='log', xscale='log', ylim=(1e-4,1e5), xlim=(1e-3,10))\n",
    "ax.legend(['unfiltered', 'filtered'])\n",
    "ax.grid(True)"
   ]
  },
  {
   "cell_type": "markdown",
   "metadata": {},
   "source": [
    "In this case, we can see about three orders of magnitude rejection in both out-of-band regions.  This would be considerably larger if the data had more samples (pixels), but the sample file is low resolution:"
   ]
  },
  {
   "cell_type": "code",
   "execution_count": null,
   "metadata": {},
   "outputs": [],
   "source": [
    "print(master.shape)"
   ]
  },
  {
   "cell_type": "markdown",
   "metadata": {},
   "source": [
    "If we use only low or highpass filters far from the low and high frequency cutoffs, we can achieve stronger rejection:"
   ]
  },
  {
   "cell_type": "code",
   "execution_count": null,
   "metadata": {},
   "outputs": [],
   "source": [
    "scratch = master.copy()\n",
    "scratch.fill()\n",
    "scratch.filter(0.1, typ='lp')\n",
    "fig, ax = psd_no_filter.slices().plot('azavg')\n",
    "scratch.psd().slices().plot('azavg', fig=fig,ax=ax)\n",
    "\n",
    "ax.set(yscale='log', xscale='log', ylim=(1e-8,1e5), xlim=(1e-3,10))\n",
    "ax.legend(['unfiltered', 'filtered'])\n",
    "ax.grid(True)\n",
    "ax.axvline(0.1)"
   ]
  },
  {
   "cell_type": "markdown",
   "metadata": {},
   "source": [
    "The small gain in power in the bandpass is a computational artifact (spectral leakage) and once again related to the low resolution of this interferogram.  We can see a rejection from about 10^2 to 10^-7 by the time we reach 2x the cutoff frequency, or -80dB."
   ]
  },
  {
   "cell_type": "markdown",
   "metadata": {},
   "source": [
    "The last processing feature built into the Interferogram class is for spike clipping.  This works the same way it does in MetroPro and Mx:"
   ]
  },
  {
   "cell_type": "code",
   "execution_count": null,
   "metadata": {},
   "outputs": [],
   "source": [
    "scratch = master.copy()\n",
    "scratch.spike_clip(3)  # 3 sigma is the default, too."
   ]
  },
  {
   "cell_type": "markdown",
   "metadata": {},
   "source": [
    "A thoughtful API for polynomial fitting as part of the interferogram interface has not been designed yet.  If you strongly desire one, please do a design and submit a pull request on github.  This _does not_ mean polynomial fitting is not possible.  Here we show fitting some low order Zernike polynomials,"
   ]
  },
  {
   "cell_type": "code",
   "execution_count": null,
   "metadata": {},
   "outputs": [],
   "source": [
    "from prysm.polynomials import (\n",
    "    fringe_to_nm,\n",
    "    zernike_nm_sequence,\n",
    "    lstsq,\n",
    "    sum_of_2d_modes\n",
    ")\n",
    "from prysm.polynomials.zernike import barplot_magnitudes, zernikes_to_magnitude_angle\n",
    "\n",
    "from prysm.util import rms"
   ]
  },
  {
   "cell_type": "code",
   "execution_count": null,
   "metadata": {},
   "outputs": [],
   "source": [
    "r, t, data = master.r, master.t, master.data\n",
    "normalization_radius = master.support/2\n",
    "r = r / normalization_radius\n",
    "fringe_indices = range(1,37)\n",
    "nms = [fringe_to_nm(j) for j in fringe_indices]\n",
    "modes = list(zernike_nm_sequence(nms, r, t))\n",
    "fit = lstsq(modes, data)\n",
    "\n",
    "pak = [[*nm, c] for nm, c in zip(nms, fit)]\n",
    "magnitudes = zernikes_to_magnitude_angle(pak)\n",
    "barplot_pak = {k: v[0] for k, v in magnitudes.items()}\n",
    "barplot_magnitudes(barplot_pak)"
   ]
  },
  {
   "cell_type": "markdown",
   "metadata": {},
   "source": [
    "We can view the projection of various Zernike bandpasses:"
   ]
  },
  {
   "cell_type": "code",
   "execution_count": null,
   "metadata": {},
   "outputs": [],
   "source": [
    "from matplotlib import pyplot as plt\n",
    "low_order_projection = sum_of_2d_modes(modes[:10], fit[:10])\n",
    "low_order_projection[~mask] = np.nan\n",
    "plt.imshow(low_order_projection)"
   ]
  },
  {
   "cell_type": "code",
   "execution_count": null,
   "metadata": {},
   "outputs": [],
   "source": [
    "mid_order_projection = sum_of_2d_modes(modes[10:22], fit[10:22])\n",
    "mid_order_projection[~mask] = np.nan\n",
    "plt.imshow(mid_order_projection)"
   ]
  },
  {
   "cell_type": "code",
   "execution_count": null,
   "metadata": {},
   "outputs": [],
   "source": [
    "high_order_projection = sum_of_2d_modes(modes[22:], fit[22:])\n",
    "high_order_projection[~mask] = np.nan\n",
    "plt.imshow(high_order_projection)"
   ]
  },
  {
   "cell_type": "markdown",
   "metadata": {},
   "source": [
    "As well as the total fit Zernike component:"
   ]
  },
  {
   "cell_type": "code",
   "execution_count": null,
   "metadata": {},
   "outputs": [],
   "source": [
    "total_projection = sum_of_2d_modes(modes, fit)\n",
    "total_projection[~mask] = np.nan\n",
    "plt.imshow(total_projection)"
   ]
  },
  {
   "cell_type": "markdown",
   "metadata": {},
   "source": [
    "And the fit error:"
   ]
  },
  {
   "cell_type": "code",
   "execution_count": null,
   "metadata": {},
   "outputs": [],
   "source": [
    "fit_err_map = master.data - total_projection\n",
    "plt.imshow(fit_err_map, clim=(-50,50), cmap='RdBu')\n",
    "rms(fit_err_map) # nm"
   ]
  },
  {
   "cell_type": "markdown",
   "metadata": {},
   "source": [
    "We can do the same with other polynomial bases,"
   ]
  },
  {
   "cell_type": "code",
   "execution_count": null,
   "metadata": {},
   "outputs": [],
   "source": [
    "from prysm.polynomials import Q2d_sequence"
   ]
  },
  {
   "cell_type": "code",
   "execution_count": null,
   "metadata": {},
   "outputs": [],
   "source": [
    "modesQ = list(Q2d_sequence(nms, r, t))\n",
    "fitQ = lstsq(modesQ, data)"
   ]
  },
  {
   "cell_type": "code",
   "execution_count": null,
   "metadata": {},
   "outputs": [],
   "source": [
    "total_projection = sum_of_2d_modes(modesQ, fitQ)\n",
    "total_projection[~mask] = np.nan\n",
    "plt.imshow(total_projection)"
   ]
  },
  {
   "cell_type": "code",
   "execution_count": null,
   "metadata": {},
   "outputs": [],
   "source": [
    "fit_err_map = master.data - total_projection\n",
    "plt.imshow(fit_err_map, clim=(-50,50), cmap='RdBu')\n",
    "rms(fit_err_map) # nm"
   ]
  },
  {
   "cell_type": "markdown",
   "metadata": {},
   "source": [
    "We can see that the common polynomial framework of prysm made it trivial to swap out one polynomial basis for another.\n",
    "\n",
    "As a final note, the metadata from the dat file is available in a python-friendly format:"
   ]
  },
  {
   "cell_type": "code",
   "execution_count": null,
   "metadata": {},
   "outputs": [],
   "source": [
    "master.meta"
   ]
  },
  {
   "cell_type": "markdown",
   "metadata": {},
   "source": [
    "As well, the actual intensity camera data is available:"
   ]
  },
  {
   "cell_type": "code",
   "execution_count": null,
   "metadata": {},
   "outputs": [],
   "source": [
    "plt.imshow(master.intensity)"
   ]
  },
  {
   "cell_type": "markdown",
   "metadata": {},
   "source": [
    "Wrapping up, in this how-to we explored the various advanced processing routines for interferometer data present in prysm.  We did not cover computing a PSF, MTF, or other downstream optical data products from the data.  The `.data` and `.dx` attributes can be used to import the numerical data into the propagation routines of prysm.  The facilities here can be combined to replace the software that comes with an interferometer to perform both basic and advanced processing alike."
   ]
  }
 ],
 "metadata": {
  "kernelspec": {
   "display_name": "Python 3 (ipykernel)",
   "language": "python",
   "name": "python3"
  },
  "language_info": {
   "codemirror_mode": {
    "name": "ipython",
    "version": 3
   },
   "file_extension": ".py",
   "mimetype": "text/x-python",
   "name": "python",
   "nbconvert_exporter": "python",
   "pygments_lexer": "ipython3",
   "version": "3.8.12"
  }
 },
 "nbformat": 4,
 "nbformat_minor": 4
}
