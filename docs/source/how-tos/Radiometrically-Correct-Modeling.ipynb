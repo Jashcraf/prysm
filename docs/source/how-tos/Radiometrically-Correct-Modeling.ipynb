{
 "cells": [
  {
   "cell_type": "markdown",
   "id": "synthetic-booth",
   "metadata": {},
   "source": [
    "# Radiometrically Correct Modeling\n",
    "\n",
    "This notebook will show how to condition inputs to prysm such that they preserve radiometry.  By doing so, the user is able to model not only the morphology of the diffraction image but also the noise properties and fundamental scaling.  We'll start with a circular aperture and show that this extends to others as well."
   ]
  },
  {
   "cell_type": "code",
   "execution_count": 1,
   "id": "inclusive-coral",
   "metadata": {},
   "outputs": [],
   "source": [
    "import numpy as np\n",
    "\n",
    "from prysm.coordinates import make_xy_grid, cart_to_polar\n",
    "from prysm.geometry import circle\n",
    "from prysm.fttools import pad2d, mdft\n",
    "from prysm.propagation import focus\n",
    "\n",
    "from matplotlib import pyplot as plt"
   ]
  },
  {
   "cell_type": "markdown",
   "id": "6b91825e",
   "metadata": {},
   "source": [
    "First we show a simple PSF model of a diffraction limited point spread function for a circular aperture:"
   ]
  },
  {
   "cell_type": "code",
   "execution_count": null,
   "id": "about-dating",
   "metadata": {},
   "outputs": [],
   "source": [
    "x, y = make_xy_grid(256, diameter=2)\n",
    "r, t = cart_to_polar(x, y)\n",
    "aperture = circle(1, r)\n",
    "inc_psf = abs(focus(aperture, Q=2)) ** 2\n",
    "print('sum', inc_psf.sum(), 'max', inc_psf.max())"
   ]
  },
  {
   "cell_type": "markdown",
   "id": "color-state",
   "metadata": {},
   "source": [
    "The `focus` function is an FFT propagation, and uses the `norm='ortho'` scaling, which preserves Parseval's theorem.  The satisfaction is in terms of complex E-field, but we are interested in unit intensity, so we must also divide by the square root of the sum of the aperture if we'd like the result to sum to 1.0.  This is equivalent to scaling the aperture to represent one photon in total intensity:"
   ]
  },
  {
   "cell_type": "code",
   "execution_count": null,
   "id": "international-affiliation",
   "metadata": {},
   "outputs": [],
   "source": [
    "aperture2 = aperture / np.sqrt(aperture.sum())\n",
    "inc_psf = abs(focus(aperture2, Q=2)) ** 2\n",
    "print('sum', inc_psf.sum(), 'max', inc_psf.max())"
   ]
  },
  {
   "cell_type": "markdown",
   "id": "nasty-casting",
   "metadata": {},
   "source": [
    "To achieve a peak of one, we need to be aware of the internal normalization done by the `norm=ortho` convention used by prysm's FFTs.  That convention includes an inner division by $\\sqrt{N\\,}$, where N is the number of elements in the array.  Since we desire a peak of 1, we can use Parseval's theorem and simply divide the output array by the sum of the aperture (i.e., the sum of the power in the input beam).  Combine that with undoing the normalization done internally by multiplying by $\\sqrt{N\\,}$: "
   ]
  },
  {
   "cell_type": "code",
   "execution_count": null,
   "id": "prescribed-boulder",
   "metadata": {},
   "outputs": [],
   "source": [
    "padfactor = 2\n",
    "aperture3 = pad2d(aperture, Q=padfactor)\n",
    "aperture3 = aperture3 * np.sqrt(aperture3.size)/aperture.sum()\n",
    "inc_psf = abs(focus(aperture3, Q=1)) ** 2\n",
    "print('sum', inc_psf.sum(), 'max', inc_psf.max())"
   ]
  },
  {
   "cell_type": "markdown",
   "id": "beb139d6",
   "metadata": {},
   "source": [
    "In this version, we have modified the normalization to increase the power in the aperture by the total number of samples, once again using a square root for energy instead of power.  This is a \"Stehl\" normalization, and the Strehl would be directly evaluate-able using the DC bin of the incoherent PSF if aberrations were introduced.\n",
    "\n",
    "Use of matrix DFTs (and chirp Z transforms) provides equal energy to FFTs, except when performing asymmetric transform pairs (one domain is smaller or larger than the other):"
   ]
  },
  {
   "cell_type": "code",
   "execution_count": null,
   "id": "eee30d63",
   "metadata": {},
   "outputs": [],
   "source": [
    "# 1) zoomed DFT ~= FFT\n",
    "# note, mdft.dft2 is used for the sake of clear example, but propagation.focus_fixed_sampling\n",
    "# is just a different interface to this\n",
    "inc_psf = abs(focus(aperture2, Q=2)) ** 2\n",
    "print('FFT sum', inc_psf.sum(), 'max', inc_psf.max())\n",
    "\n",
    "inc_psf2 = mdft.dft2(aperture2, 2, 512)\n",
    "inc_psf2 = abs(inc_psf2)**2\n",
    "print('MFT sum', inc_psf.sum(), 'max', inc_psf.max())"
   ]
  },
  {
   "cell_type": "markdown",
   "id": "15c16dab",
   "metadata": {},
   "source": [
    "Note that these agree to all digits.  We can see that if we \"crop\" into the zoomed DFT by computing fewer samples, our peak answer does not change and the sum is nearly the same (since the region of the PSF distant to the core carries very little energy):"
   ]
  },
  {
   "cell_type": "code",
   "execution_count": null,
   "id": "e06dce29",
   "metadata": {},
   "outputs": [],
   "source": [
    "inc_psf2 = mdft.dft2(aperture2, 2, 128)\n",
    "inc_psf2 = abs(inc_psf2)**2\n",
    "print(inc_psf2.sum(), inc_psf2.max())"
   ]
  },
  {
   "cell_type": "markdown",
   "id": "27939d75",
   "metadata": {},
   "source": [
    "In this case, we lost about 0.6% of the energy.  This will hold true in the pupil-plane representation if we go back, because each matrix DFT preserves Parseval's theorem:"
   ]
  },
  {
   "cell_type": "code",
   "execution_count": null,
   "id": "00b1a020",
   "metadata": {},
   "outputs": [],
   "source": [
    "field = mdft.dft2(aperture2, 2, 128)  # note that we are propagating the e field back to the pupil, not the PSF\n",
    "aperture_clone = mdft.idft2(field, 4, 256)\n",
    "aperture_clone = aperture_clone.real\n",
    "\n",
    "fig, axs = plt.subplots(ncols=2)\n",
    "axs[0].imshow(aperture2)\n",
    "axs[0].set(title=f'True Aperture\\nsum: {aperture2.sum():.1f}')\n",
    "\n",
    "axs[1].imshow(aperture_clone)\n",
    "axs[1].set(title=f'After Matrix DFT and iDFT\\nsum: {aperture_clone.sum():.1f}')"
   ]
  },
  {
   "cell_type": "markdown",
   "id": "42576ca1",
   "metadata": {},
   "source": [
    "We can see that at first blush, the process does not duplicate itself.  This is because of the infinite impulse response nature of the PSF.  The destruction of high frequencies via the crop implicit in computing a $Q=2$ field with $< 2*N$ samples results in spatial domain ringing.  This ringing has resulted in the pupil being minutely dimmer in its total energy, due to the energy that was outside the computed window.  There is also a ~10% overshoot in the maximum value.\n",
    "\n",
    "A related phenomenon will occur if you compute a domain that goes beyond $f_s/2$, since the Dirichlet aliases will be visible in the `field` variable before inverse transformation, and the Fourier transform of a signal and a noninteger number of its aliases is not the same as the Fourier transform of the signal itself.\n",
    "\n",
    "### In Summary\n",
    "\n",
    "prysm's propagations are normalized such that,\n",
    "\n",
    "1.  If you desire a sum of 1, scale $f = f \\cdot \\left(1 / \\sqrt{\\sum f}\\right)$\n",
    "2.  If you desire a peak of one, scale $f = f \\cdot \\left( \\sqrt{\\text{array size}} /\\sum f \\right)$"
   ]
  }
 ],
 "metadata": {
  "kernelspec": {
   "display_name": "prysm",
   "language": "python",
   "name": "python3"
  },
  "language_info": {
   "codemirror_mode": {
    "name": "ipython",
    "version": 3
   },
   "file_extension": ".py",
   "mimetype": "text/x-python",
   "name": "python",
   "nbconvert_exporter": "python",
   "pygments_lexer": "ipython3",
   "version": "3.11.5"
  }
 },
 "nbformat": 4,
 "nbformat_minor": 5
}
