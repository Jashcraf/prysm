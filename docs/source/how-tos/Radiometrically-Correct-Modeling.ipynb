{
 "cells": [
  {
   "cell_type": "markdown",
   "id": "synthetic-booth",
   "metadata": {},
   "source": [
    "# Radiometrically Correct Modeling\n",
    "\n",
    "This notebook will show how to condition inputs to prysm such that they preserve radiometry.  By doing so, the user is able to model not only the morphology of the diffraction image but also the noise properties and fundamental scaling.  We'll start with a circular aperture and show that this extends to others as well."
   ]
  },
  {
   "cell_type": "code",
   "execution_count": null,
   "id": "inclusive-coral",
   "metadata": {},
   "outputs": [],
   "source": [
    "import numpy as np\n",
    "\n",
    "from prysm.coordinates import make_xy_grid, cart_to_polar\n",
    "from prysm.geometry import circle\n",
    "from prysm.fttools import pad2d, mdft\n",
    "from prysm.propagation import focus\n",
    "\n",
    "from matplotlib import pyplot as plt"
   ]
  },
  {
   "cell_type": "markdown",
   "id": "6b91825e",
   "metadata": {},
   "source": [
    "First we show a simple PSF model of a diffraction limited point spread function for a circular aperture:"
   ]
  },
  {
   "cell_type": "code",
   "execution_count": null,
   "id": "about-dating",
   "metadata": {},
   "outputs": [],
   "source": [
    "x, y = make_xy_grid(256, diameter=2)\n",
    "r, t = cart_to_polar(x, y)\n",
    "aperture = circle(1, r)\n",
    "inc_psf = abs(focus(aperture, Q=2)) ** 2\n",
    "inc_psf.sum(), inc_psf.max()"
   ]
  },
  {
   "cell_type": "markdown",
   "id": "color-state",
   "metadata": {},
   "source": [
    "The `focus` function is an FFT propagation, and uses the `norm='unitary'` scaling, which preserves Parseval's theorem.  The satisfaction is in terms of complex E-field, but we are interested in unit intensity, so we must also divide by the square root of the sum of the aperture if we'd like the result to peak at 1.0:"
   ]
  },
  {
   "cell_type": "code",
   "execution_count": null,
   "id": "international-affiliation",
   "metadata": {},
   "outputs": [],
   "source": [
    "aperture2 = aperture / np.sqrt(aperture.sum())\n",
    "inc_psf = abs(focus(aperture2, Q=2)) ** 2\n",
    "inc_psf.sum(), inc_psf.max()"
   ]
  },
  {
   "cell_type": "markdown",
   "id": "nasty-casting",
   "metadata": {},
   "source": [
    "To achieve a peak of one, we need to scale the aperture in a particular way:"
   ]
  },
  {
   "cell_type": "code",
   "execution_count": null,
   "id": "prescribed-boulder",
   "metadata": {},
   "outputs": [],
   "source": [
    "aperture3 = pad2d(aperture, Q=2)\n",
    "aperture3 = aperture3 * (2*np.sqrt(aperture.size)/aperture.sum())\n",
    "inc_psf = abs(focus(aperture3, Q=1)) ** 2\n",
    "inc_psf.sum(), inc_psf.max()"
   ]
  },
  {
   "cell_type": "markdown",
   "id": "beb139d6",
   "metadata": {},
   "source": [
    "Use of matrix DFTs (and chirp Z transforms) provides equal energy to FFTs, except when performing asymmetric transform pairs (one domain is smaller or larger than the other):"
   ]
  },
  {
   "cell_type": "code",
   "execution_count": null,
   "id": "eee30d63",
   "metadata": {},
   "outputs": [],
   "source": [
    "# 1) zoomed DFT ~= FFT\n",
    "# note, mdft.dft2 is used for the sake of clear example, but propagation.focus_fixed_sampling\n",
    "# is just a different interface to this\n",
    "inc_psf = abs(focus(aperture2, Q=2)) ** 2\n",
    "print(inc_psf.sum(), inc_psf.max())\n",
    "\n",
    "inc_psf2 = mdft.dft2(aperture2, 2, 512)\n",
    "inc_psf2 = abs(inc_psf2)**2\n",
    "print(inc_psf2.sum(), inc_psf2.max())"
   ]
  },
  {
   "cell_type": "markdown",
   "id": "15c16dab",
   "metadata": {},
   "source": [
    "Note that these agree to all but the last two digits.  We can see that if we \"crop\" into the zoomed DFT by computing fewer samples, our peak answer does not change and the sum is nearly the same (since the region of the PSF distant to the core carries very little energy):"
   ]
  },
  {
   "cell_type": "code",
   "execution_count": null,
   "id": "e06dce29",
   "metadata": {},
   "outputs": [],
   "source": [
    "inc_psf2 = mdft.dft2(aperture2, 2, 128)\n",
    "inc_psf2 = abs(inc_psf2)**2\n",
    "print(inc_psf2.sum(), inc_psf2.max())"
   ]
  },
  {
   "cell_type": "markdown",
   "id": "27939d75",
   "metadata": {},
   "source": [
    "In this case, we lost about 0.03/5 ~= 0.6% of the energy.  If we go back to the pupil, a factor of 2 scaling will be needed due to the 2X crop used in the focal plane; 128 = 0.5 * 256, or 256 = 128 * 2"
   ]
  },
  {
   "cell_type": "code",
   "execution_count": null,
   "id": "00b1a020",
   "metadata": {},
   "outputs": [],
   "source": [
    "field = mdft.dft2(aperture2, 2, 128)  # note that we are propagating the e field back to the pupil, not the PSF\n",
    "aperture_clone = mdft.idft2(field, 4, 256)\n",
    "aperture_clone = aperture_clone.real * 2\n",
    "plt.imshow(aperture_clone)"
   ]
  },
  {
   "cell_type": "code",
   "execution_count": null,
   "id": "d17aa1ed",
   "metadata": {},
   "outputs": [],
   "source": [
    "plt.imshow(aperture2)"
   ]
  },
  {
   "cell_type": "code",
   "execution_count": null,
   "id": "1c0aade5",
   "metadata": {},
   "outputs": [],
   "source": [
    "print(aperture2.max(), aperture2.sum())\n",
    "print(aperture_clone.max(), aperture_clone.sum())"
   ]
  },
  {
   "cell_type": "markdown",
   "id": "42576ca1",
   "metadata": {},
   "source": [
    "We can see that at first blush, the process does not duplicate itself.  This is because of the IIR nature of the PSF.  The destruction of high frequencies via the crop implicit in computing a $Q=2$ field with $< 2*N$ samples results in spatial domain ringing.  This ringing has resulted in the pupil being 0.0003 dimmer in its total energy, likely due to a small amount of energy cast outside the computational window.  There is also a ~10% overshoot in the maximum value.\n",
    "\n",
    "A related phenomenon will occur if you compute a domain that goes beyond $f_s/2$, since the Dirichlet aliases will be visible in the `field` variable before inverse transformation, and the Fourier transform of a signal and a noninteger number of its aliases is not the same as the Fourier transform of the signal itself.\n",
    "\n",
    "### In Summary\n",
    "\n",
    "prysm's propagations are normalized such that,\n",
    "\n",
    "1.  If you desire a sum of 1, scale $f = f / \\sqrt{\\sum f}$\n",
    "2.  If you desire a peak of one, scale $f = f \\cdot \\left( Q\\cdot \\sqrt{\\frac{N}{\\sum f}} \\right)$"
   ]
  }
 ],
 "metadata": {
  "kernelspec": {
   "display_name": "Python 3.8.12 ('prysm')",
   "language": "python",
   "name": "python3"
  },
  "language_info": {
   "codemirror_mode": {
    "name": "ipython",
    "version": 3
   },
   "file_extension": ".py",
   "mimetype": "text/x-python",
   "name": "python",
   "nbconvert_exporter": "python",
   "pygments_lexer": "ipython3",
   "version": "3.8.12"
  },
  "vscode": {
   "interpreter": {
    "hash": "5be6ce34c2868258f3cc626bd7cc451c1e001037b347cf86bc40933442f60bd7"
   }
  }
 },
 "nbformat": 4,
 "nbformat_minor": 5
}
