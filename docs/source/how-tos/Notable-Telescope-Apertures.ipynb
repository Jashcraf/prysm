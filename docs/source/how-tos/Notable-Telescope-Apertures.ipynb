{
 "cells": [
  {
   "cell_type": "markdown",
   "id": "4040b6e4",
   "metadata": {},
   "source": [
    "# Notable Telescope Apertures\n",
    "\n",
    "This notebook will show how to use prysm to paint the apertures of notable telescopes.  Further modeling of these observatories will not be given here, and requries additional data (e.g., OPD maps or coefficients, masks) not widely available.  It is assumed the user sufficiently understands the components used to not require explanation of details.  All parameters are based on publically shown values and may be imprecise.  If you are a member of the science or engineering team for these systems, you should check all parameters against internal values.  \n",
    "\n",
    "Most apertures include the steps to repeat this synthesis for any similar aperture, and do not jump directly to the solution.  They all conclude with a mask and a figure showing the fully composited aperture.\n",
    "\n",
    "Links jump to telescopes:\n",
    "\n",
    "- [HST](#HST)\n",
    "- [JWST](#JWST)\n",
    "- [TMT](#TMT)\n",
    "- [ELT](#ELT)\n",
    "- [LUVOIR-A](#LUVOIR-A)\n",
    "- [LUVOIR-B](#LUVOIR-B)\n",
    "- [HabEx-A](#HabEx-A)\n",
    "- [HabEx-B](#HabEx-B)"
   ]
  },
  {
   "cell_type": "code",
   "execution_count": null,
   "id": "9371225c",
   "metadata": {},
   "outputs": [],
   "source": [
    "import numpy as np\n",
    "\n",
    "from prysm.coordinates import make_xy_grid, cart_to_polar\n",
    "from prysm.geometry import spider, circle, offset_circle\n",
    "from prysm.segmented import CompositeHexagonalAperture\n",
    "\n",
    "from matplotlib import pyplot as plt"
   ]
  },
  {
   "cell_type": "markdown",
   "id": "f20faeae",
   "metadata": {},
   "source": [
    "## HST\n",
    "\n",
    "HST has a primary mirror of diameter 2.4 m with 32% linear obscuration, and four spiders of 38 mm diameter rotated 45$^\\circ$ from the cardinal axes.  There are an additional three small circular obscurations from pads used to secure the primary mirror.  The pads are 90% of the way to the edge of the mirror at ccw angles w.r.t. the x axis of -45, -165, and +75 degrees and have each a diameter of 150 mm."
   ]
  },
  {
   "cell_type": "code",
   "execution_count": null,
   "id": "0d195831",
   "metadata": {},
   "outputs": [],
   "source": [
    "x, y = make_xy_grid(512, diameter=2.4)\n",
    "r, t = cart_to_polar(x, y)\n",
    "\n",
    "pm_od = circle(2.4/2, r)\n",
    "pm_id = circle(2.4/2*.32, r)\n",
    "mask = pm_od ^ pm_id # or pm_od & ~pm_id\n",
    "plt.imshow(mask, cmap='gray')"
   ]
  },
  {
   "cell_type": "markdown",
   "id": "a1aeaefd",
   "metadata": {},
   "source": [
    "After shading the primary, we now compute the spider and pad obscurations:"
   ]
  },
  {
   "cell_type": "code",
   "execution_count": null,
   "id": "2041e54b",
   "metadata": {},
   "outputs": [],
   "source": [
    "spider_ = spider(4, 0.038, x, y, 45)\n",
    "pads_r = 0.90*2.4/2\n",
    "pad_angles = [np.radians(a) for a in [-45, -165, 75]]\n",
    "pad_centers = [(pads_r*np.cos(a), pads_r*np.sin(a)) for a in pad_angles]\n",
    "pads = [offset_circle(.075, x, y, c) for c in pad_centers]\n",
    "\n",
    "# pads before this point is a list of the points INSIDE each circle.\n",
    "# logical or, |, below produces a mask of \"pixels inside ANY circle\"\n",
    "# these are an obscuration, so we invert it with ~\n",
    "pads = (pads[0]|pads[1]|pads[2])\n",
    "hst_pupil = mask & spider_ & ~pads\n",
    "plt.imshow(hst_pupil, origin='lower', cmap='gray', extent=[x.min(), x.max(), y.min(), y.max()])\n",
    "plt.title('Fully composited HST aperture')"
   ]
  },
  {
   "cell_type": "markdown",
   "id": "d449f8ea",
   "metadata": {},
   "source": [
    "## JWST\n",
    "\n",
    "<!-- This notebook will show how to use prysm to model the JWST.  The principle features of the JWST shown here are the shape of its pupil as well as both per-segment and aperture-wide wavefront errors.  Obviously JWST is a high complexity observatory, and each of its instruments are also complicated.  We will begin from the front of the observatory and not cover any radiometric or polychromatic topics in detail, users can compose these topics with what is presented here. -->\n",
    "\n",
    "<!-- To avoid running afoul of any export restrictions, we will also use only publicly available, unlimited release values in constructing this model.  This means that if you actually want to JWST with a program inspired by what is here, you need to check and likely replace all values with the unpublicized versions. -->"
   ]
  },
  {
   "cell_type": "markdown",
   "id": "0625f825",
   "metadata": {},
   "source": [
    "JWST is a 2-ring segmented hexagonal design.  The central segment is missing, and there is a upside-down \"Y\" strut system to hold the secondary.  The segments are 1.32 m flat-to-flat, with 7 mm airgaps between.  We first paint the hexagons:"
   ]
  },
  {
   "cell_type": "code",
   "execution_count": null,
   "id": "c352b409",
   "metadata": {},
   "outputs": [],
   "source": [
    "x, y = make_xy_grid(512, diameter=6.6)\n",
    "\n",
    "cha = CompositeHexagonalAperture(x,y,2,1.32,0.007,exclude=(0,))\n",
    "\n",
    "plt.imshow(cha.amp, origin='lower', cmap='gray', extent=[x.min(), x.max(), y.min(), y.max()])"
   ]
  },
  {
   "cell_type": "markdown",
   "id": "e2746ba1",
   "metadata": {},
   "source": [
    "And create the secondary struts, adding them to the mask:"
   ]
  },
  {
   "cell_type": "code",
   "execution_count": null,
   "id": "aa73c80f",
   "metadata": {},
   "outputs": [],
   "source": [
    "m1 = spider(1, .1, x, y, rotation=-120)\n",
    "m2 = spider(1, .1, x, y, rotation=-60)\n",
    "m3 = spider(1, .1, x, y, rotation=90)\n",
    "spider_ = m1&m2&m3\n",
    "plt.imshow(cha.amp&spider_, origin='lower', cmap='gray', extent=[x.min(), x.max(), y.min(), y.max()])\n",
    "plt.title('Fully composited JWST aperture')"
   ]
  },
  {
   "cell_type": "markdown",
   "id": "1de1c196",
   "metadata": {},
   "source": [
    "## TMT\n",
    "\n",
    "TMT is a hexagonally tiled aperture with 1.44 m segments (diameter, not flat-to-flat) and only 2.5 mm gaps.  The gaps cannot be drawn properly except on a very fine grid (30M/2.5mm ~= 12K array to get 1 sample per gap).  13 rings are required to shade the entire aperture.  The first step in defining the aperture is to indicate which segment has which ID from prysm (which are deterministic) and mark the ones missing from the observatory for exclusion:"
   ]
  },
  {
   "cell_type": "code",
   "execution_count": null,
   "id": "b66b9598",
   "metadata": {},
   "outputs": [],
   "source": [
    "x, y = make_xy_grid(1024, diameter=30)\n",
    "r, t = cart_to_polar(x, y)\n",
    "\n",
    "flat_to_flat_to_vertex_vertex = 2 / np.sqrt(3)\n",
    "vtov_to_flat_to_flat = 1 / flat_to_flat_to_vertex_vertex\n",
    "\n",
    "segdiam = vtov_to_flat_to_flat * 1.44\n",
    "cha = CompositeHexagonalAperture(x,y,13,segdiam,0.0025)\n",
    "\n",
    "fig, ax = plt.subplots(figsize=(15,15))\n",
    "ax.imshow(cha.amp, origin='lower', cmap='gray', extent=[x.min(), x.max(), y.min(), y.max()])\n",
    "for center, id_ in zip(cha.all_centers, cha.segment_ids):\n",
    "    plt.text(*center, id_, ha='center', va='center')"
   ]
  },
  {
   "cell_type": "markdown",
   "id": "e55d9104",
   "metadata": {},
   "source": [
    "The inner ring and center segment should be excluded, and only 6 segments exist per horizontal side, nor should the most extreme \"columns\" be present.  The topmost segments are also not present.  Let's start with this as an exclusion list:"
   ]
  },
  {
   "cell_type": "code",
   "execution_count": null,
   "id": "fdac3ecc",
   "metadata": {},
   "outputs": [],
   "source": [
    "exclude = [\n",
    "    0, 1, 2, 3, 4, 5, 6, # center\n",
    "    469, 470, 508, 509, 507, 510, 506, 545,\n",
    "    471, 511, 505, 544, 472, 397, 433, 546, # top, bottom\n",
    "    534, 533, 532, 531, 521, 522, 523, 524, # left edge\n",
    "    482, 483, 484, 485, 495, 494, 493, 492, # right edge\n",
    "]\n",
    "\n",
    "cha = CompositeHexagonalAperture(x,y,13,segdiam,0.0025, exclude=exclude)\n",
    "fig, ax = plt.subplots(figsize=(15,15))\n",
    "ax.imshow(cha.amp, origin='lower', cmap='gray', extent=[x.min(), x.max(), y.min(), y.max()])\n",
    "for center, id_ in zip(cha.all_centers, cha.segment_ids):\n",
    "    plt.text(*center, id_, ha='center', va='center')"
   ]
  },
  {
   "cell_type": "markdown",
   "id": "e63cb636",
   "metadata": {},
   "source": [
    "Next we can see that the diagonal \"corners\" are too large.  With the exclusion list below, we can create a TMT pupil, excepting struts and SM obscuration, in only two lines of code."
   ]
  },
  {
   "cell_type": "code",
   "execution_count": null,
   "id": "d7050453",
   "metadata": {},
   "outputs": [],
   "source": [
    "exclude = [\n",
    "    0, 1, 2, 3, 4, 5, 6, # center\n",
    "    469, 470, 508, 509, 507, 510, 506, 545,\n",
    "    471, 511, 505, 544, 472, 397, 433, 546, # top, bottom\n",
    "    534, 533, 532, 531, 521, 522, 523, 524, # left edge\n",
    "    482, 483, 484, 485, 495, 494, 493, 492, # right edge\n",
    "    457, 535, 445, 520, 481, 409, 421, 496, # corners\n",
    "    536, 537, 479, 480, 497, 498, 519, 518, # next 'diagonal' from corners\n",
    "]\n",
    "\n",
    "cha = CompositeHexagonalAperture(x,y,13,segdiam,0.0025, exclude=exclude)\n",
    "fig, ax = plt.subplots(figsize=(15,15))\n",
    "ax.imshow(cha.amp, origin='lower', cmap='gray', extent=[x.min(), x.max(), y.min(), y.max()])"
   ]
  },
  {
   "cell_type": "markdown",
   "id": "448b2c48",
   "metadata": {},
   "source": [
    "The TMT secondary obscuration is of 3.65 m diameter, we add it and struts of 50 cm diameter that are equiangular:"
   ]
  },
  {
   "cell_type": "code",
   "execution_count": null,
   "id": "3b77022b",
   "metadata": {},
   "outputs": [],
   "source": [
    "spider_ = spider(3, .5, x, y, rotation=90)\n",
    "sm_obs = ~circle(3.65/2, r)\n",
    "plt.imshow(cha.amp&spider_&sm_obs, origin='lower', cmap='gray', extent=[x.min(), x.max(), y.min(), y.max()])"
   ]
  },
  {
   "cell_type": "markdown",
   "id": "0b8ec48e",
   "metadata": {},
   "source": [
    "Last of all are the six cables, of 20 mm diameter.  These are a bit tricky, but they have a meeting point at 90% the radius of the SM obscuration.  We will form them similar to the JWST and LUVOIR-A spiders, by shifting the coordinate grid and specifying the angle.  The angles are about 10$^\\circ$ from the radial normal."
   ]
  },
  {
   "cell_type": "code",
   "execution_count": null,
   "id": "c514f1ab",
   "metadata": {},
   "outputs": [],
   "source": [
    "# first cable bundle\n",
    "r_offset = 3.65/2*.8\n",
    "center_angle = np.radians(90)\n",
    "center_c1 = (np.cos(center_angle) * r_offset, np.sin(center_angle) * r_offset)\n",
    "cable1 = spider(1, 0.02, x, y, rotation=25.5, center=center_c1)\n",
    "cable2 = spider(1, 0.02, x, y, rotation=180-25.5, center=center_c1)\n",
    "\n",
    "center_angle = np.radians(-30)\n",
    "center_c1 = (np.cos(center_angle) * r_offset, np.sin(center_angle) * r_offset)\n",
    "cable3 = spider(1, 0.02, x, y, rotation=34.5, center=center_c1)\n",
    "cable4 = spider(1, 0.02, x, y, rotation=-90-4.5, center=center_c1)\n",
    "\n",
    "center_angle = np.radians(210)\n",
    "center_c1 = (np.cos(center_angle) * r_offset, np.sin(center_angle) * r_offset)\n",
    "cable5 = spider(1, 0.02, x, y, rotation=180-34.5, center=center_c1)\n",
    "cable6 = spider(1, 0.02, x, y, rotation=-90+4.5, center=center_c1)\n",
    "\n",
    "cables = cable1&cable2&cable3&cable4&cable5&cable6\n",
    "fig, ax = plt.subplots(figsize=(15,15))\n",
    "ax.imshow(cha.amp&spider_&sm_obs&cables, origin='lower', cmap='gray', extent=[x.min(), x.max(), y.min(), y.max()])\n",
    "ax.set_title('Fully composited TMT aperture')"
   ]
  },
  {
   "cell_type": "markdown",
   "id": "caa4280e",
   "metadata": {},
   "source": [
    "# ELT\n",
    "The European Extremely Large Telescope (ELT) is the largest of the 30m class apertures with a 39.3m \"diameter\". It has 1.45 m segments and 4 mm gaps. 17 rings are required to shade the entire aperture. We follow the same procedure for the TMT in identifying which segments to exclude, but this time we've done it for you. You know, as a treat."
   ]
  },
  {
   "cell_type": "code",
   "execution_count": null,
   "id": "14746603",
   "metadata": {},
   "outputs": [],
   "source": [
    "x, y = make_xy_grid(1024, diameter=39.3)\n",
    "r, t = cart_to_polar(x, y)\n",
    "\n",
    "flat_to_flat_to_vertex_vertex = 2 / np.sqrt(3)\n",
    "vtov_to_flat_to_flat = 1 / flat_to_flat_to_vertex_vertex\n",
    "segdiam = vtov_to_flat_to_flat * 1.45\n",
    "\n",
    "exclude = [\n",
    "\t\t817, 918, 818, 819, 721, 917, 820, 722, 816, 916, # top\n",
    "\t\t868, 867, 869, 866, 769, 870, 865, 768, 770, 871, # bottom\n",
    "\t\t902, 901, 903, 900, 801, 904, 899, 800, 802, 905, # top left\n",
    "\t\t834, 835, 833, 836, 737, 832, 837, 738, 736, 831, # top right\n",
    "\t\t885, 884, 886, 883, 785, 887, 882, 784, 786, 888, # bottom left\n",
    "\t\t851, 852, 850, 853, 753, 849, 854, 754, 752, 848  # bottom right\n",
    "\t]\n",
    "\n",
    "# the centers are easier to exclude by appending, but you can type them out yourself if you wish\n",
    "for i in range(61):\n",
    "    exclude.append(i)\n",
    "\n",
    "cha = CompositeHexagonalAperture(x,y,17,segdiam,0.004,exclude=exclude)\n",
    "spiders = spider(vanes=6,x=x,y=y,width=1/3,rotation=30)\n",
    "\n",
    "fig, ax = plt.subplots(figsize=(15,15))\n",
    "ax.imshow(cha.amp&spiders, origin='lower', cmap='gray', extent=[x.min(), x.max(), y.min(), y.max()])"
   ]
  },
  {
   "cell_type": "markdown",
   "id": "91710fc4",
   "metadata": {},
   "source": [
    "## LUVOIR-A\n",
    "\n",
    "LUVOIR-A (as of the 2018 new design) contains 120 hexagonal segments of flat-to-flat dimension 1.223 m.  Only the central segment is missing.  The strut design is essentially the same as JWST.  The first step in defining the aperture is to indicate which segment has which ID from prysm (which are deterministic) and mark the ones missing from the observatory for exclusion:"
   ]
  },
  {
   "cell_type": "code",
   "execution_count": null,
   "id": "38f93e94",
   "metadata": {},
   "outputs": [],
   "source": [
    "x, y = make_xy_grid(512, diameter=15)\n",
    "\n",
    "cha = CompositeHexagonalAperture(x,y,6,1.223,0.007)\n",
    "fig, ax = plt.subplots(figsize=(10,10))\n",
    "ax.imshow(cha.amp, origin='lower', cmap='gray', extent=[x.min(), x.max(), y.min(), y.max()])\n",
    "for center, id_ in zip(cha.all_centers, cha.segment_ids):\n",
    "    plt.text(*center, id_)"
   ]
  },
  {
   "cell_type": "markdown",
   "id": "3e214f2e",
   "metadata": {},
   "source": [
    "Note that we have discarded all of the other information from the composition process, which will be identical to the previous invocation.  We now add the spider, pretty much the same as JWST:"
   ]
  },
  {
   "cell_type": "code",
   "execution_count": null,
   "id": "f5a63a26",
   "metadata": {},
   "outputs": [],
   "source": [
    "exclude = [\n",
    "    0,\n",
    "    91,\n",
    "    109,\n",
    "    97,\n",
    "    103,\n",
    "    115,\n",
    "    121\n",
    "]\n",
    "\n",
    "cha = CompositeHexagonalAperture(x,y,6,1.223,0.007, exclude=exclude)\n",
    "\n",
    "m1 = spider(1, .2, x, y, rotation=-105)\n",
    "m2 = spider(1, .2, x, y, rotation=-75)\n",
    "m3 = spider(1, .2, x, y, rotation=90)\n",
    "spider_ = m1&m2&m3\n",
    "plt.imshow(cha.amp&spider_, origin='lower', cmap='gray', extent=[x.min(), x.max(), y.min(), y.max()])\n",
    "plt.title('Fully composited LUVOIR-A aperture')"
   ]
  },
  {
   "cell_type": "markdown",
   "id": "e891f604",
   "metadata": {},
   "source": [
    "## LUVOIR-B\n",
    "\n",
    "LUVOIR-B is a smaller, unobscured co-design to LUVOIR-A.  We follow a similar two-step shading process to find which segment IDs must be excluded:"
   ]
  },
  {
   "cell_type": "code",
   "execution_count": null,
   "id": "4e6cc949",
   "metadata": {},
   "outputs": [],
   "source": [
    "x, y = make_xy_grid(512, diameter=8)\n",
    "\n",
    "cha = CompositeHexagonalAperture(x,y,4,.955,.007)\n",
    "\n",
    "fig, ax = plt.subplots(figsize=(10,10))\n",
    "ax.imshow(cha.amp, origin='lower', cmap='gray', extent=[x.min(), x.max(), y.min(), y.max()])\n",
    "for center, id_ in zip(cha.all_centers, cha.segment_ids):\n",
    "    plt.text(*center, id_)"
   ]
  },
  {
   "cell_type": "code",
   "execution_count": null,
   "id": "6e0baaf8",
   "metadata": {},
   "outputs": [],
   "source": [
    "exclude = [\n",
    "    37,\n",
    "    41,\n",
    "    45,\n",
    "    49,\n",
    "    53,\n",
    "    57\n",
    "]\n",
    "\n",
    "cha = CompositeHexagonalAperture(x,y,4,.955,.007, exclude=exclude)\n",
    "\n",
    "\n",
    "plt.imshow(cha.amp, origin='lower', cmap='gray', extent=[x.min(), x.max(), y.min(), y.max()])\n",
    "plt.title('Fully composited LUVOIR-B aperture')"
   ]
  },
  {
   "cell_type": "markdown",
   "id": "4d84f5f9",
   "metadata": {},
   "source": [
    "## HabEx-A\n",
    "\n",
    "Habex architecture A is a 4m unobscured system, which is extremely simple to model:"
   ]
  },
  {
   "cell_type": "code",
   "execution_count": null,
   "id": "2020f1df",
   "metadata": {},
   "outputs": [],
   "source": [
    "x, y = make_xy_grid(512, diameter=4)\n",
    "r, t = cart_to_polar(x, y)\n",
    "mask = circle(2, r)\n",
    "\n",
    "plt.imshow(mask, origin='lower', cmap='gray', extent=[x.min(), x.max(), y.min(), y.max()])\n",
    "plt.title('Fully composited HabEx A pupil')"
   ]
  },
  {
   "cell_type": "markdown",
   "id": "c9f87b81",
   "metadata": {},
   "source": [
    "## HabEx-B\n",
    "\n",
    "Habex architecture B is an unobscured pupil of 6.5 m diameter based on a 3-ring fully populated hexagonal composition"
   ]
  },
  {
   "cell_type": "code",
   "execution_count": null,
   "id": "fe4f3c8f",
   "metadata": {},
   "outputs": [],
   "source": [
    "x, y = make_xy_grid(512, diameter=6.5)\n",
    "\n",
    "cha = CompositeHexagonalAperture(x,y,3,.825,0.007)\n",
    "\n",
    "plt.imshow(cha.amp, origin='lower', cmap='gray', extent=[x.min(), x.max(), y.min(), y.max()])\n",
    "plt.title('Fully composited HabEx B pupil')"
   ]
  }
 ],
 "metadata": {
  "kernelspec": {
   "display_name": "Python 3 (ipykernel)",
   "language": "python",
   "name": "python3"
  },
  "language_info": {
   "codemirror_mode": {
    "name": "ipython",
    "version": 3
   },
   "file_extension": ".py",
   "mimetype": "text/x-python",
   "name": "python",
   "nbconvert_exporter": "python",
   "pygments_lexer": "ipython3",
   "version": "3.8.5"
  }
 },
 "nbformat": 4,
 "nbformat_minor": 5
}
